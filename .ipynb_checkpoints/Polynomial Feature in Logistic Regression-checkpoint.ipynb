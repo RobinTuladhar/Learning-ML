{
 "cells": [
  {
   "cell_type": "markdown",
   "id": "c8789fdc",
   "metadata": {},
   "source": [
    "# As we know Logistic Regression cant handel non-linear datas it has to be linear so that the model works properly for non-linear datas other models are used like decision tree, random forest etc. BUT, by using polynomial feature on Logistic Regression it is possible"
   ]
  },
  {
   "cell_type": "code",
   "execution_count": 1,
   "id": "ac7f9fb4",
   "metadata": {},
   "outputs": [],
   "source": [
    "import numpy as np\n",
    "import pandas as pd\n",
    "import matplotlib.pyplot as plt\n",
    "df = pd.read_csv('ushape.csv')\n",
    "df.head()"
   ]
  },
  {
   "cell_type": "code",
   "execution_count": null,
   "id": "bd5eef1e",
   "metadata": {},
   "outputs": [],
   "source": [
    "X = df.iloc[:,0:2].values\n",
    "y = df.iloc[:,-1].values"
   ]
  },
  {
   "cell_type": "code",
   "execution_count": null,
   "id": "a5519222",
   "metadata": {},
   "outputs": [],
   "source": [
    "\n",
    "plt.scatter(X[:,0],X[:,1],c=y)"
   ]
  },
  {
   "cell_type": "code",
   "execution_count": null,
   "id": "87e325ed",
   "metadata": {},
   "outputs": [],
   "source": [
    "from sklearn.linear_model import LogisticRegression\n",
    "clf = LogisticRegression()"
   ]
  },
  {
   "cell_type": "code",
   "execution_count": null,
   "id": "0e555775",
   "metadata": {},
   "outputs": [],
   "source": [
    "clf.fit(X,y)\n"
   ]
  },
  {
   "cell_type": "code",
   "execution_count": null,
   "id": "f82daf1f",
   "metadata": {},
   "outputs": [],
   "source": [
    "from mlxtend.plotting import plot_decision_regions\n",
    "\n",
    "plot_decision_regions(X, y.astype('int'), clf, legend=2)"
   ]
  },
  {
   "cell_type": "code",
   "execution_count": null,
   "id": "ef44f477",
   "metadata": {},
   "outputs": [],
   "source": [
    "from sklearn.model_selection import cross_val_score\n",
    "np.mean(cross_val_score(clf,X,y,scoring='accuracy',cv=10))"
   ]
  },
  {
   "cell_type": "code",
   "execution_count": null,
   "id": "cc60868c",
   "metadata": {},
   "outputs": [],
   "source": [
    "from sklearn.preprocessing import PolynomialFeatures\n",
    "poly = PolynomialFeatures(degree=3,include_bias=False)\n",
    "X_trf = poly.fit_transform(X)"
   ]
  },
  {
   "cell_type": "code",
   "execution_count": null,
   "id": "e7922f6b",
   "metadata": {},
   "outputs": [],
   "source": [
    "clf1 = LogisticRegression()\n",
    "np.mean(cross_val_score(clf1,X_trf,y,scoring='accuracy',cv=10))"
   ]
  },
  {
   "cell_type": "code",
   "execution_count": null,
   "id": "5fcb0bfa",
   "metadata": {},
   "outputs": [],
   "source": [
    "def plot_decision_boundary(X,y,degree=1):\n",
    "    \n",
    "    poly = PolynomialFeatures(degree=degree)\n",
    "    X_trf = poly.fit_transform(X)\n",
    "    \n",
    "    clf = LogisticRegression()\n",
    "    clf.fit(X_trf,y)\n",
    "    \n",
    "    accuracy = np.mean(cross_val_score(clf,X_trf,y,scoring='accuracy',cv=10))\n",
    "    \n",
    "    a=np.arange(start=X[:,0].min()-1, stop=X[:,0].max()+1, step=0.01)\n",
    "    b=np.arange(start=X[:,1].min()-1, stop=X[:,1].max()+1, step=0.01)\n",
    "\n",
    "\n",
    "    XX,YY=np.meshgrid(a,b)\n",
    "    \n",
    "    input_array=np.array([XX.ravel(),YY.ravel()]).T\n",
    "\n",
    "    labels=clf.predict(poly.transform(input_array))\n",
    "    \n",
    "    plt.contourf(XX,YY,labels.reshape(XX.shape),alpha=0.5)\n",
    "    plt.scatter(X[:,0],X[:,1], c=y)\n",
    "    plt.title('Degree = {}, accuracy is {}'.format(degree,np.round(accuracy,4)))"
   ]
  },
  {
   "cell_type": "code",
   "execution_count": null,
   "id": "0acb45d7",
   "metadata": {},
   "outputs": [],
   "source": [
    "plot_decision_boundary(X,y)"
   ]
  },
  {
   "cell_type": "code",
   "execution_count": null,
   "id": "0f1e51f2",
   "metadata": {},
   "outputs": [],
   "source": [
    "plot_decision_boundary(X,y,degree=2)"
   ]
  },
  {
   "cell_type": "code",
   "execution_count": null,
   "id": "2a7aa018",
   "metadata": {},
   "outputs": [],
   "source": [
    "plot_decision_boundary(X,y,degree=3)"
   ]
  },
  {
   "cell_type": "code",
   "execution_count": null,
   "id": "5eed54ae",
   "metadata": {},
   "outputs": [],
   "source": [
    "plot_decision_boundary(X,y,degree=5)"
   ]
  },
  {
   "cell_type": "code",
   "execution_count": null,
   "id": "d517a05a",
   "metadata": {},
   "outputs": [],
   "source": []
  },
  {
   "cell_type": "code",
   "execution_count": null,
   "id": "3b200dab",
   "metadata": {},
   "outputs": [],
   "source": []
  },
  {
   "cell_type": "code",
   "execution_count": null,
   "id": "72d20f8e",
   "metadata": {},
   "outputs": [],
   "source": []
  },
  {
   "cell_type": "code",
   "execution_count": null,
   "id": "19a41ab0",
   "metadata": {},
   "outputs": [],
   "source": []
  },
  {
   "cell_type": "code",
   "execution_count": null,
   "id": "5c900a4d",
   "metadata": {},
   "outputs": [],
   "source": []
  },
  {
   "cell_type": "code",
   "execution_count": null,
   "id": "00eac48a",
   "metadata": {},
   "outputs": [],
   "source": []
  }
 ],
 "metadata": {
  "kernelspec": {
   "display_name": "Python 3",
   "language": "python",
   "name": "python3"
  },
  "language_info": {
   "codemirror_mode": {
    "name": "ipython",
    "version": 3
   },
   "file_extension": ".py",
   "mimetype": "text/x-python",
   "name": "python",
   "nbconvert_exporter": "python",
   "pygments_lexer": "ipython3",
   "version": "3.8.8"
  }
 },
 "nbformat": 4,
 "nbformat_minor": 5
}
