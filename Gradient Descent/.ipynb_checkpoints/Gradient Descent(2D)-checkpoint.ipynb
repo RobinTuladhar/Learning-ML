{
 "cells": [
  {
   "cell_type": "markdown",
   "id": "beb1be7a",
   "metadata": {},
   "source": [
    "# Gradient descent where both m and b is non-constant"
   ]
  },
  {
   "cell_type": "code",
   "execution_count": 1,
   "id": "af30b102",
   "metadata": {},
   "outputs": [],
   "source": [
    "from sklearn.datasets import make_regression\n",
    "import matplotlib.pyplot as plt\n",
    "import numpy as np"
   ]
  },
  {
   "cell_type": "code",
   "execution_count": 17,
   "id": "00a482e1",
   "metadata": {},
   "outputs": [],
   "source": [
    "X,y = make_regression(n_samples=100, n_features=1, n_informative=1, n_targets=1,noise=20)"
   ]
  },
  {
   "cell_type": "code",
   "execution_count": 18,
   "id": "eb7d0979",
   "metadata": {},
   "outputs": [
    {
     "data": {
      "text/plain": [
       "<matplotlib.collections.PathCollection at 0x29e8b8559a0>"
      ]
     },
     "execution_count": 18,
     "metadata": {},
     "output_type": "execute_result"
    },
    {
     "data": {
      "image/png": "[encoded data removed]",
      "text/plain": [
       "<Figure size 432x288 with 1 Axes>"
      ]
     },
     "metadata": {
      "needs_background": "light"
     },
     "output_type": "display_data"
    }
   ],
   "source": [
    "plt.scatter(X,y)"
   ]
  },
  {
   "cell_type": "markdown",
   "id": "ffd20f4e",
   "metadata": {},
   "source": [
    "# First Fectching results for linear regression using sklearn"
   ]
  },
  {
   "cell_type": "code",
   "execution_count": 19,
   "id": "65490123",
   "metadata": {},
   "outputs": [],
   "source": [
    "from sklearn.linear_model import LinearRegression\n",
    "lr = LinearRegression()"
   ]
  },
  {
   "cell_type": "code",
   "execution_count": 20,
   "id": "4410da5b",
   "metadata": {},
   "outputs": [
    {
     "data": {
      "text/html": [
       "<style>#sk-container-id-3 {color: black;background-color: white;}#sk-container-id-3 pre{padding: 0;}#sk-container-id-3 div.sk-toggleable {background-color: white;}#sk-container-id-3 label.sk-toggleable__label {cursor: pointer;display: block;width: 100%;margin-bottom: 0;padding: 0.3em;box-sizing: border-box;text-align: center;}#sk-container-id-3 label.sk-toggleable__label-arrow:before {content: \"▸\";float: left;margin-right: 0.25em;color: #696969;}#sk-container-id-3 label.sk-toggleable__label-arrow:hover:before {color: black;}#sk-container-id-3 div.sk-estimator:hover label.sk-toggleable__label-arrow:before {color: black;}#sk-container-id-3 div.sk-toggleable__content {max-height: 0;max-width: 0;overflow: hidden;text-align: left;background-color: #f0f8ff;}#sk-container-id-3 div.sk-toggleable__content pre {margin: 0.2em;color: black;border-radius: 0.25em;background-color: #f0f8ff;}#sk-container-id-3 input.sk-toggleable__control:checked~div.sk-toggleable__content {max-height: 200px;max-width: 100%;overflow: auto;}#sk-container-id-3 input.sk-toggleable__control:checked~label.sk-toggleable__label-arrow:before {content: \"▾\";}#sk-container-id-3 div.sk-estimator input.sk-toggleable__control:checked~label.sk-toggleable__label {background-color: #d4ebff;}#sk-container-id-3 div.sk-label input.sk-toggleable__control:checked~label.sk-toggleable__label {background-color: #d4ebff;}#sk-container-id-3 input.sk-hidden--visually {border: 0;clip: rect(1px 1px 1px 1px);clip: rect(1px, 1px, 1px, 1px);height: 1px;margin: -1px;overflow: hidden;padding: 0;position: absolute;width: 1px;}#sk-container-id-3 div.sk-estimator {font-family: monospace;background-color: #f0f8ff;border: 1px dotted black;border-radius: 0.25em;box-sizing: border-box;margin-bottom: 0.5em;}#sk-container-id-3 div.sk-estimator:hover {background-color: #d4ebff;}#sk-container-id-3 div.sk-parallel-item::after {content: \"\";width: 100%;border-bottom: 1px solid gray;flex-grow: 1;}#sk-container-id-3 div.sk-label:hover label.sk-toggleable__label {background-color: #d4ebff;}#sk-container-id-3 div.sk-serial::before {content: \"\";position: absolute;border-left: 1px solid gray;box-sizing: border-box;top: 0;bottom: 0;left: 50%;z-index: 0;}#sk-container-id-3 div.sk-serial {display: flex;flex-direction: column;align-items: center;background-color: white;padding-right: 0.2em;padding-left: 0.2em;position: relative;}#sk-container-id-3 div.sk-item {position: relative;z-index: 1;}#sk-container-id-3 div.sk-parallel {display: flex;align-items: stretch;justify-content: center;background-color: white;position: relative;}#sk-container-id-3 div.sk-item::before, #sk-container-id-3 div.sk-parallel-item::before {content: \"\";position: absolute;border-left: 1px solid gray;box-sizing: border-box;top: 0;bottom: 0;left: 50%;z-index: -1;}#sk-container-id-3 div.sk-parallel-item {display: flex;flex-direction: column;z-index: 1;position: relative;background-color: white;}#sk-container-id-3 div.sk-parallel-item:first-child::after {align-self: flex-end;width: 50%;}#sk-container-id-3 div.sk-parallel-item:last-child::after {align-self: flex-start;width: 50%;}#sk-container-id-3 div.sk-parallel-item:only-child::after {width: 0;}#sk-container-id-3 div.sk-dashed-wrapped {border: 1px dashed gray;margin: 0 0.4em 0.5em 0.4em;box-sizing: border-box;padding-bottom: 0.4em;background-color: white;}#sk-container-id-3 div.sk-label label {font-family: monospace;font-weight: bold;display: inline-block;line-height: 1.2em;}#sk-container-id-3 div.sk-label-container {text-align: center;}#sk-container-id-3 div.sk-container {/* jupyter's `normalize.less` sets `[hidden] { display: none; }` but bootstrap.min.css set `[hidden] { display: none !important; }` so we also need the `!important` here to be able to override the default hidden behavior on the sphinx rendered scikit-learn.org. See: https://github.com/scikit-learn/scikit-learn/issues/21755 */display: inline-block !important;position: relative;}#sk-container-id-3 div.sk-text-repr-fallback {display: none;}</style><div id=\"sk-container-id-3\" class=\"sk-top-container\"><div class=\"sk-text-repr-fallback\"><pre>LinearRegression()</pre><b>In a Jupyter environment, please rerun this cell to show the HTML representation or trust the notebook. <br />On GitHub, the HTML representation is unable to render, please try loading this page with nbviewer.org.</b></div><div class=\"sk-container\" hidden><div class=\"sk-item\"><div class=\"sk-estimator sk-toggleable\"><input class=\"sk-toggleable__control sk-hidden--visually\" id=\"sk-estimator-id-3\" type=\"checkbox\" checked><label for=\"sk-estimator-id-3\" class=\"sk-toggleable__label sk-toggleable__label-arrow\">LinearRegression</label><div class=\"sk-toggleable__content\"><pre>LinearRegression()</pre></div></div></div></div></div>"
      ],
      "text/plain": [
       "LinearRegression()"
      ]
     },
     "execution_count": 20,
     "metadata": {},
     "output_type": "execute_result"
    }
   ],
   "source": [
    "lr.fit(X,y)"
   ]
  },
  {
   "cell_type": "code",
   "execution_count": 21,
   "id": "fd7b1ecb",
   "metadata": {},
   "outputs": [
    {
     "data": {
      "text/plain": [
       "array([49.45249061])"
      ]
     },
     "execution_count": 21,
     "metadata": {},
     "output_type": "execute_result"
    }
   ],
   "source": [
    "lr.coef_"
   ]
  },
  {
   "cell_type": "code",
   "execution_count": 22,
   "id": "aa327023",
   "metadata": {},
   "outputs": [
    {
     "data": {
      "text/plain": [
       "-1.9674890986423466"
      ]
     },
     "execution_count": 22,
     "metadata": {},
     "output_type": "execute_result"
    }
   ],
   "source": [
    "lr.intercept_"
   ]
  },
  {
   "cell_type": "code",
   "execution_count": 23,
   "id": "626ffff4",
   "metadata": {},
   "outputs": [],
   "source": [
    "m = 49.45"
   ]
  },
  {
   "cell_type": "code",
   "execution_count": 40,
   "id": "d22ed561",
   "metadata": {},
   "outputs": [],
   "source": [
    "class GDRegressor:\n",
    "    \n",
    "    def __init__(self, learning_rate, epochs):\n",
    "        self.m = m\n",
    "        self.b = -120\n",
    "        self.lr = learning_rate\n",
    "        self.epochs = epochs\n",
    "        \n",
    "    def fit(self,X,y):\n",
    "        # now calculating b using Gradient Descent\n",
    "        for i in range(self.epochs):\n",
    "            loss_slope = -2*np.sum(y-self.m*X.ravel()-self.b)\n",
    "            self.b = self.b - (self.lr*loss_slope)\n",
    "            print(loss_slope, self.b)\n",
    "        print(self.b)\n",
    "    "
   ]
  },
  {
   "cell_type": "code",
   "execution_count": 43,
   "id": "78cb18e3",
   "metadata": {},
   "outputs": [
    {
     "name": "stdout",
     "output_type": "stream",
     "text": [
      "-23606.498311209325 -96.39350168879068\n",
      "-18885.198648967453 -77.50830303982323\n",
      "-15108.158919173971 -62.40014412064926\n",
      "-12086.527135339173 -50.313616985310084\n",
      "-9669.22170827134 -40.64439527703874\n",
      "-7735.37736661707 -32.90901791042167\n",
      "-6188.301893293655 -26.720716017128012\n",
      "-4950.641514634924 -21.770074502493088\n",
      "-3960.5132117079397 -17.809561290785147\n",
      "-3168.4105693663514 -14.641150721418796\n",
      "-2534.728455493081 -12.106422265925715\n",
      "-2027.782764394465 -10.078639501531251\n",
      "-1622.226211515572 -8.456413290015679\n",
      "-1297.7809692124576 -7.158632320803221\n",
      "-1038.2247753699662 -6.120407545433255\n",
      "-830.5798202959729 -5.2898277251372825\n",
      "-664.4638562367784 -4.625363868900504\n",
      "-531.5710849894227 -4.093792783911081\n",
      "-425.25686799153806 -3.6685359159195423\n",
      "-340.20549439323014 -3.3283304215263123\n",
      "-272.1643955145843 -3.056166026011728\n",
      "-217.7315164116674 -2.8384345096000607\n",
      "-174.18521312933402 -2.6642492964707265\n",
      "-139.34817050346717 -2.524901125967259\n",
      "-111.47853640277368 -2.4134225895644854\n",
      "-89.18282912221893 -2.3242397604422664\n",
      "-71.34626329777524 -2.252893497144491\n",
      "-57.077010638220116 -2.195816486506271\n",
      "-45.66160851057605 -2.150154877995695\n",
      "-36.529286808460974 -2.113625591187234\n",
      "-29.223429446768556 -2.0844021617404658\n",
      "-23.378743557414992 -2.061023418183051\n",
      "-18.702994845932047 -2.042320423337119\n",
      "-14.962395876745603 -2.027358027460373\n",
      "-11.969916701396457 -2.015388110758977\n",
      "-9.575933361117208 -2.0058121773978597\n",
      "-7.660746688893772 -1.9981514307089658\n",
      "-6.128597351114934 -1.992022833357851\n",
      "-4.902877880891992 -1.987119955476959\n",
      "-3.922302304713618 -1.9831976531722453\n",
      "-3.1378418437709215 -1.9800598113284744\n",
      "-2.5102734750165894 -1.9775495378534578\n",
      "-2.0082187800133937 -1.9755413190734443\n",
      "-1.6065750240105743 -1.9739347440494337\n",
      "-1.2852600192085717 -1.972649484030225\n",
      "-1.0282080153668787 -1.9716212760148581\n",
      "-0.8225664122934404 -1.9707987096025648\n",
      "-0.6580531298347765 -1.97014065647273\n",
      "-0.52644250386777 -1.9696142139688622\n",
      "-0.42115400309410944 -1.969193059965768\n",
      "-0.3369232024754609 -1.9688561367632926\n",
      "-0.2695385619804114 -1.9685865982013122\n",
      "-0.21563084958437173 -1.9683709673517278\n",
      "-0.17250467966747607 -1.9681984626720603\n",
      "-0.13800374373393964 -1.9680604589283264\n",
      "-0.11040299498726824 -1.9679500559333392\n",
      "-0.08832239598972791 -1.9678617335373494\n",
      "-0.07065791679171696 -1.9677910756205577\n",
      "-0.05652633343327551 -1.9677345492871243\n",
      "-0.04522106674654225 -1.9676893282203778\n",
      "-0.03617685339730059 -1.9676531513669804\n",
      "-0.028941482718028766 -1.9676242098842625\n",
      "-0.02315318617444362 -1.967601056698088\n",
      "-0.018522548939252204 -1.9675825341491486\n",
      "-0.014818039151514029 -1.9675677161099971\n",
      "-0.011854431321239645 -1.967555861678676\n",
      "-0.00948354505702298 -1.9675463781336189\n",
      "-0.007586836045661016 -1.9675387912975733\n",
      "-0.0060694688364471006 -1.9675327218287368\n",
      "-0.004855575069218077 -1.9675278662536677\n",
      "-0.00388446005551657 -1.967523981793612\n",
      "-0.003107568044185882 -1.9675208742255679\n",
      "-0.002486054435387075 -1.9675183881711324\n",
      "-0.0019888435482968703 -1.9675163993275842\n",
      "-0.0015910748388563434 -1.9675148082527454\n",
      "-0.0012728598708271477 -1.9675135353928745\n",
      "-0.0010182878968834075 -1.9675125171049777\n",
      "-0.0008146303175493586 -1.96751170247466\n",
      "-0.0006517042538121132 -1.9675110507704061\n",
      "-0.0005213634029601621 -1.9675105294070032\n",
      "-0.00041709072249673795 -1.9675101123162808\n",
      "-0.00033367257801231176 -1.9675097786437028\n",
      "-0.00026693806229616257 -1.9675095117056405\n",
      "-0.00021355045000248651 -1.9675092981551905\n",
      "-0.0001708403599920416 -1.9675091273148304\n",
      "-0.00013667228787284103 -1.9675089906425425\n",
      "-0.00010933783038069578 -1.9675088813047121\n",
      "-8.747026422284421e-05 -1.967508793834448\n",
      "-6.997621136406451e-05 -1.9675087238582367\n",
      "-5.598096929659846e-05 -1.9675086678772675\n",
      "-4.478477545788451e-05 -1.967508623092492\n",
      "-3.582782022704123e-05 -1.9675085872646718\n",
      "-2.866225622000229e-05 -1.9675085586024157\n",
      "-2.292980504492448e-05 -1.9675085356726107\n",
      "-1.8343843940726856e-05 -1.9675085173287667\n",
      "-1.4675075235004442e-05 -1.9675085026536916\n",
      "-1.1740060372744665e-05 -1.9675084909136311\n",
      "-9.39204792871351e-06 -1.967508481521583\n",
      "-7.51363862150356e-06 -1.9675084740079445\n",
      "-6.010910574616446e-06 -1.9675084679970338\n",
      "-1.9675084679970338\n"
     ]
    }
   ],
   "source": [
    "gd = GDRegressor(0.001,100) # if the lr and epcoch is lower the oupt will be far from the required result\n",
    "gd.fit(X,y)"
   ]
  },
  {
   "cell_type": "code",
   "execution_count": null,
   "id": "998d6c9c",
   "metadata": {},
   "outputs": [],
   "source": []
  },
  {
   "cell_type": "code",
   "execution_count": null,
   "id": "25d7f5a5",
   "metadata": {},
   "outputs": [],
   "source": []
  },
  {
   "cell_type": "code",
   "execution_count": null,
   "id": "0dab03ca",
   "metadata": {},
   "outputs": [],
   "source": []
  },
  {
   "cell_type": "code",
   "execution_count": null,
   "id": "fbdf1175",
   "metadata": {},
   "outputs": [],
   "source": []
  },
  {
   "cell_type": "code",
   "execution_count": null,
   "id": "91d326fb",
   "metadata": {},
   "outputs": [],
   "source": []
  },
  {
   "cell_type": "code",
   "execution_count": null,
   "id": "67fba680",
   "metadata": {},
   "outputs": [],
   "source": []
  },
  {
   "cell_type": "code",
   "execution_count": null,
   "id": "96eca419",
   "metadata": {},
   "outputs": [],
   "source": []
  }
 ],
 "metadata": {
  "kernelspec": {
   "display_name": "Python 3",
   "language": "python",
   "name": "python3"
  },
  "language_info": {
   "codemirror_mode": {
    "name": "ipython",
    "version": 3
   },
   "file_extension": ".py",
   "mimetype": "text/x-python",
   "name": "python",
   "nbconvert_exporter": "python",
   "pygments_lexer": "ipython3",
   "version": "3.8.8"
  }
 },
 "nbformat": 4,
 "nbformat_minor": 5
}
