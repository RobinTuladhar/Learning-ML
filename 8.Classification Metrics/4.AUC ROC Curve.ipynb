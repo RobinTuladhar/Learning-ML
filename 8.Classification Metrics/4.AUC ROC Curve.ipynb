{
 "cells": [
  {
   "cell_type": "code",
   "execution_count": 1,
   "id": "f3ccbbfe",
   "metadata": {},
   "outputs": [],
   "source": [
    "import pandas as pd\n",
    "import numpy as np\n",
    "import matplotlib.pyplot as plt\n",
    "import seaborn as sns\n",
    "import warnings\n",
    "warnings.filterwarnings(\"ignore\")\n",
    "\n",
    "from sklearn.linear_model import LogisticRegression\n",
    "from sklearn.model_selection import train_test_split"
   ]
  },
  {
   "cell_type": "code",
   "execution_count": 2,
   "id": "586e46da",
   "metadata": {},
   "outputs": [],
   "source": [
    "df = pd.read_csv(\"diabetes.csv\")"
   ]
  },
  {
   "cell_type": "code",
   "execution_count": 3,
   "id": "b2751d06",
   "metadata": {},
   "outputs": [
    {
     "data": {
      "text/html": [
       "<div>\n",
       "<style scoped>\n",
       "    .dataframe tbody tr th:only-of-type {\n",
       "        vertical-align: middle;\n",
       "    }\n",
       "\n",
       "    .dataframe tbody tr th {\n",
       "        vertical-align: top;\n",
       "    }\n",
       "\n",
       "    .dataframe thead th {\n",
       "        text-align: right;\n",
       "    }\n",
       "</style>\n",
       "<table border=\"1\" class=\"dataframe\">\n",
       "  <thead>\n",
       "    <tr style=\"text-align: right;\">\n",
       "      <th></th>\n",
       "      <th>Pregnancies</th>\n",
       "      <th>Glucose</th>\n",
       "      <th>BloodPressure</th>\n",
       "      <th>SkinThickness</th>\n",
       "      <th>Insulin</th>\n",
       "      <th>BMI</th>\n",
       "      <th>DiabetesPedigreeFunction</th>\n",
       "      <th>Age</th>\n",
       "      <th>Outcome</th>\n",
       "    </tr>\n",
       "  </thead>\n",
       "  <tbody>\n",
       "    <tr>\n",
       "      <th>0</th>\n",
       "      <td>6</td>\n",
       "      <td>148</td>\n",
       "      <td>72</td>\n",
       "      <td>35</td>\n",
       "      <td>0</td>\n",
       "      <td>33.6</td>\n",
       "      <td>0.627</td>\n",
       "      <td>50</td>\n",
       "      <td>1</td>\n",
       "    </tr>\n",
       "    <tr>\n",
       "      <th>1</th>\n",
       "      <td>1</td>\n",
       "      <td>85</td>\n",
       "      <td>66</td>\n",
       "      <td>29</td>\n",
       "      <td>0</td>\n",
       "      <td>26.6</td>\n",
       "      <td>0.351</td>\n",
       "      <td>31</td>\n",
       "      <td>0</td>\n",
       "    </tr>\n",
       "    <tr>\n",
       "      <th>2</th>\n",
       "      <td>8</td>\n",
       "      <td>183</td>\n",
       "      <td>64</td>\n",
       "      <td>0</td>\n",
       "      <td>0</td>\n",
       "      <td>23.3</td>\n",
       "      <td>0.672</td>\n",
       "      <td>32</td>\n",
       "      <td>1</td>\n",
       "    </tr>\n",
       "    <tr>\n",
       "      <th>3</th>\n",
       "      <td>1</td>\n",
       "      <td>89</td>\n",
       "      <td>66</td>\n",
       "      <td>23</td>\n",
       "      <td>94</td>\n",
       "      <td>28.1</td>\n",
       "      <td>0.167</td>\n",
       "      <td>21</td>\n",
       "      <td>0</td>\n",
       "    </tr>\n",
       "    <tr>\n",
       "      <th>4</th>\n",
       "      <td>0</td>\n",
       "      <td>137</td>\n",
       "      <td>40</td>\n",
       "      <td>35</td>\n",
       "      <td>168</td>\n",
       "      <td>43.1</td>\n",
       "      <td>2.288</td>\n",
       "      <td>33</td>\n",
       "      <td>1</td>\n",
       "    </tr>\n",
       "  </tbody>\n",
       "</table>\n",
       "</div>"
      ],
      "text/plain": [
       "   Pregnancies  Glucose  BloodPressure  SkinThickness  Insulin   BMI  \\\n",
       "0            6      148             72             35        0  33.6   \n",
       "1            1       85             66             29        0  26.6   \n",
       "2            8      183             64              0        0  23.3   \n",
       "3            1       89             66             23       94  28.1   \n",
       "4            0      137             40             35      168  43.1   \n",
       "\n",
       "   DiabetesPedigreeFunction  Age  Outcome  \n",
       "0                     0.627   50        1  \n",
       "1                     0.351   31        0  \n",
       "2                     0.672   32        1  \n",
       "3                     0.167   21        0  \n",
       "4                     2.288   33        1  "
      ]
     },
     "execution_count": 3,
     "metadata": {},
     "output_type": "execute_result"
    }
   ],
   "source": [
    "df.head()"
   ]
  },
  {
   "cell_type": "code",
   "execution_count": 4,
   "id": "de7d172b",
   "metadata": {},
   "outputs": [],
   "source": [
    "X = df.iloc[:, :-1]\n",
    "y = df.iloc[:, -1]"
   ]
  },
  {
   "cell_type": "code",
   "execution_count": 5,
   "id": "53833e51",
   "metadata": {},
   "outputs": [],
   "source": [
    "X_train, X_test, y_train, y_test = train_test_split(X,y, test_size=0.2, random_state = 42)"
   ]
  },
  {
   "cell_type": "code",
   "execution_count": 6,
   "id": "5ec47846",
   "metadata": {},
   "outputs": [
    {
     "name": "stdout",
     "output_type": "stream",
     "text": [
      "(768, 8)\n",
      "(614, 8)\n",
      "(154, 8)\n",
      "(768,)\n",
      "(614,)\n",
      "(154,)\n"
     ]
    }
   ],
   "source": [
    "print(X.shape)\n",
    "print(X_train.shape)\n",
    "print(X_test.shape)\n",
    "print(y.shape)\n",
    "print(y_train.shape)\n",
    "print(y_test.shape)"
   ]
  },
  {
   "cell_type": "code",
   "execution_count": 7,
   "id": "7af2c0e7",
   "metadata": {},
   "outputs": [
    {
     "data": {
      "text/plain": [
       "0.7467532467532467"
      ]
     },
     "execution_count": 7,
     "metadata": {},
     "output_type": "execute_result"
    }
   ],
   "source": [
    "from sklearn.metrics import accuracy_score\n",
    "lr = LogisticRegression()\n",
    "lr.fit(X_train, y_train)\n",
    "y_pred = lr.predict(X_test)\n",
    "accuracy_score(y_test, y_pred)"
   ]
  },
  {
   "cell_type": "code",
   "execution_count": 8,
   "id": "f8b0b2e3",
   "metadata": {},
   "outputs": [
    {
     "data": {
      "text/plain": [
       "array([0.27136387, 0.19305603, 0.11711638, 0.16331373, 0.4649504 ,\n",
       "       0.42952516, 0.01586582, 0.65068481, 0.54194385, 0.76598415,\n",
       "       0.25701229, 0.89390041, 0.34024545, 0.29552099, 0.08329845,\n",
       "       0.38111633, 0.14024914, 0.07633383, 0.86767171, 0.56357457,\n",
       "       0.20382988, 0.07771863, 0.53836587, 0.09654447, 0.53894104,\n",
       "       0.88566255, 0.12759142, 0.03080148, 0.25402597, 0.11399796,\n",
       "       0.91126064, 0.86138325, 0.76811579, 0.83719513, 0.59972109,\n",
       "       0.68418735, 0.96699349, 0.23978994, 0.50099891, 0.73615478,\n",
       "       0.07074974, 0.57780797, 0.56862713, 0.32636151, 0.02824046,\n",
       "       0.50504464, 0.62316226, 0.22742467, 0.34857297, 0.95286801,\n",
       "       0.05069545, 0.65321194, 0.80430525, 0.2493136 , 0.09636819,\n",
       "       0.04240272, 0.7686719 , 0.00599499, 0.4104802 , 0.75583697,\n",
       "       0.73940657, 0.35474564, 0.18442565, 0.20029552, 0.07770669,\n",
       "       0.63199179, 0.05182499, 0.72901956, 0.03741832, 0.71570159,\n",
       "       0.67143903, 0.07012597, 0.17484455, 0.11551808, 0.09261792,\n",
       "       0.50133411, 0.15761045, 0.13501264, 0.13411587, 0.23446497,\n",
       "       0.65647084, 0.14923706, 0.06123623, 0.3782941 , 0.25971239,\n",
       "       0.83573311, 0.9022175 , 0.301864  , 0.12501713, 0.08652267,\n",
       "       0.06660655, 0.23627875, 0.00438207, 0.54976749, 0.51772496,\n",
       "       0.65109767, 0.36498292, 0.12888814, 0.60851907, 0.08024455,\n",
       "       0.7191228 , 0.06329848, 0.77386212, 0.5052242 , 0.64214055,\n",
       "       0.22083976, 0.26228989, 0.73631124, 0.12601526, 0.52642354,\n",
       "       0.10115429, 0.32674768, 0.02099825, 0.73462045, 0.17598644,\n",
       "       0.3442766 , 0.77763817, 0.21983613, 0.06462755, 0.58768693,\n",
       "       0.0601963 , 0.2981236 , 0.24586536, 0.07704744, 0.27151374,\n",
       "       0.40819471, 0.04230028, 0.86626796, 0.97029152, 0.73118503,\n",
       "       0.70641094, 0.85077064, 0.08561397, 0.42100918, 0.81369146,\n",
       "       0.1121291 , 0.15879746, 0.85242208, 0.79408834, 0.0133739 ,\n",
       "       0.09738056, 0.04057363, 0.20520073, 0.37990279, 0.12463192,\n",
       "       0.28805704, 0.13913424, 0.0220319 , 0.42814745, 0.74725822,\n",
       "       0.11820959, 0.47068933, 0.22806733, 0.19727478])"
      ]
     },
     "execution_count": 8,
     "metadata": {},
     "output_type": "execute_result"
    }
   ],
   "source": [
    "y_scores = lr.predict_proba(X_test)[:,1]\n",
    "y_scores # Probabilities of all the patients to be diabetic"
   ]
  },
  {
   "cell_type": "code",
   "execution_count": 9,
   "id": "27b91e3e",
   "metadata": {},
   "outputs": [
    {
     "data": {
      "text/plain": [
       "array([1.97029152, 0.97029152, 0.96699349, 0.95286801, 0.9022175 ,\n",
       "       0.89390041, 0.77386212, 0.7686719 , 0.76811579, 0.76598415,\n",
       "       0.73462045, 0.73118503, 0.72901956, 0.7191228 , 0.68418735,\n",
       "       0.67143903, 0.65321194, 0.65068481, 0.64214055, 0.63199179,\n",
       "       0.60851907, 0.56862713, 0.54976749, 0.53836587, 0.52642354,\n",
       "       0.5052242 , 0.50504464, 0.42814745, 0.42100918, 0.40819471,\n",
       "       0.38111633, 0.3442766 , 0.34024545, 0.32674768, 0.301864  ,\n",
       "       0.25971239, 0.23978994, 0.23446497, 0.22806733, 0.20382988,\n",
       "       0.20029552, 0.16331373, 0.15879746, 0.15761045, 0.14923706,\n",
       "       0.14024914, 0.13913424, 0.12759142, 0.12601526, 0.11711638,\n",
       "       0.11551808, 0.04240272, 0.04230028, 0.00438207])"
      ]
     },
     "execution_count": 9,
     "metadata": {},
     "output_type": "execute_result"
    }
   ],
   "source": [
    "from sklearn.metrics import roc_curve\n",
    "fpr, tpr, thresholds = roc_curve(y_test, y_scores)\n",
    "thresholds"
   ]
  },
  {
   "cell_type": "code",
   "execution_count": null,
   "id": "c023fc23",
   "metadata": {
    "scrolled": false
   },
   "outputs": [],
   "source": [
    "import plotly.graph_objects as go\n",
    "\n",
    "#Generate a trace for ROC Curve\n",
    "\n",
    "trace0 = go.Scatter(\n",
    "    x=fpr,\n",
    "    y=tpr,\n",
    "    mode = \"lines\",\n",
    "    name = \"ROC curve\"\n",
    ")\n",
    "\n",
    "# Only label every nth point to avoid cluttering\n",
    "n=10\n",
    "indices = np.arange(len(thresholds)) % n == 0 # CHoose indidces whre index mod n is 0\n",
    "\n",
    "trace1 = go.Scatter(\n",
    "    x=fpr[indices],\n",
    "    y=tpr[indices],\n",
    "    mode = \"text\",\n",
    "    name = \"Threshold points\",\n",
    "    test = [f\"Thre={thr:.2f}\" for thr in thresholds[indices]],\n",
    "            textposition = \"top center\"\n",
    ")\n",
    "# Diagonal line\n",
    "\n",
    "trace2 = go.Scatter(\n",
    "    x=[0, 1],\n",
    "    y=[0, 1],\n",
    "    mode = \"lines\",\n",
    "    name = \"Random (Area = 0.5)\",\n",
    "    line = dict(dash=\"dash\")\n",
    ")\n",
    "\n",
    "data = [trace0, trace1, trace2]\n",
    "\n",
    "#Define layout with square aspect ratio\n",
    "layout = go.Layout(\n",
    "    title = \"Receiver Operating Characteristic\",\n",
    "    xaxis = dict(title = \"False Positive Rate\"),\n",
    "    yaxis = dict(title = \"True Positive Rate\"),\n",
    "    autosize = False,\n",
    "    width = 800,\n",
    "    height = 800,\n",
    "    showlegend = False\n",
    "\n",
    ")\n",
    "\n",
    "#Define figure and add data\n",
    "fig = go.Figure(data=data, layout=layout)\n",
    "\n",
    "#show figure\n",
    "fig.show()"
   ]
  },
  {
   "cell_type": "code",
   "execution_count": null,
   "id": "13319270",
   "metadata": {},
   "outputs": [],
   "source": []
  }
 ],
 "metadata": {
  "kernelspec": {
   "display_name": "Python 3",
   "language": "python",
   "name": "python3"
  },
  "language_info": {
   "codemirror_mode": {
    "name": "ipython",
    "version": 3
   },
   "file_extension": ".py",
   "mimetype": "text/x-python",
   "name": "python",
   "nbconvert_exporter": "python",
   "pygments_lexer": "ipython3",
   "version": "3.8.8"
  }
 },
 "nbformat": 4,
 "nbformat_minor": 5
}
