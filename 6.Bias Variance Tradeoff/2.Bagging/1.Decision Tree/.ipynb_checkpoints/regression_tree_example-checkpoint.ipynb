{
 "cells": [
  {
   "cell_type": "markdown",
   "metadata": {},
   "source": [
    "# Decision Tree\n",
    "A Decision Tree is like a flowchart or a tree-shaped diagram used in machine learning and decision analysis to make decisions. It's a versatile tool that's easy to understand, making it great for beginners. A decision tree is a machine learning algorithm that can be used for both classification and regression tasks. It works by constructing a tree-like structure of decisions that leads to a prediction. The tree is constructed by recursively splitting the data into smaller subsets based on the values of the features. The process stops when a leaf node is reached, which contains the final prediction.\n",
    "\n",
    "Imagine you are trying to build a model to predict whether a customer will churn (cancel their subscription) or not. You have a dataset of customers with their churn status and other features, such as their age, gender, and subscription plan.\n",
    "\n",
    "You could start by building a simple decision tree with two nodes. The root node of the tree would be the question \"Is the customer's age greater than 30?\". If the answer is yes, the tree would predict that the customer is likely to churn. If the answer is no, the tree would predict that the customer is unlikely to churn.\n",
    "\n",
    "You could then expand the tree by adding more nodes. For example, you could add a node for customers who are male and have a monthly subscription plan. If the customer is male and has a monthly subscription plan, the tree could predict that the customer is very likely to churn.\n",
    "\n",
    "You could continue to expand the tree by adding more nodes for different combinations of features. The more complex the tree, the more accurate the predictions may be. However, it is important to avoid overfitting the tree to the training data. Overfitting occurs when the tree learns the training data too well and does not generalize well to new data.\n",
    "\n",
    "### Objective:\n",
    "Imagine you have to make a series of decisions, like whether to go for a walk or stay indoors based on the weather, your mood, and other factors. A Decision Tree helps you make these decisions systematically.\n",
    "\n",
    "### Explanation:\n",
    "\n",
    "1. Tree Structure: A Decision Tree looks like an upside-down tree with branches. At the top is the \"root node,\" representing the initial decision you need to make. Each branch represents a choice or decision based on specific criteria.\n",
    "\n",
    "2. Nodes and Leaves: Along the branches, you have \"nodes\" (decision points) and \"leaves\" (endpoints or final decisions). Think of nodes as questions, and leaves as answers or outcomes.\n",
    "\n",
    "3. Splitting Criteria: To make decisions, a Decision Tree uses various factors or features (e.g., weather, mood) at each node. These factors split the data into smaller groups based on their characteristics.\n",
    "\n",
    "## Advantages\n",
    "1. Easy to Understand: Decision Trees are like simple flowcharts, making them very intuitive and easy to interpret. You can see exactly how a decision is made step by step.\n",
    "2. No Assumptions: Decision Trees don't require complex assumptions about data distribution, making them versatile for various types of data.\n",
    "3. Feature Importance: They can show which features (questions) are most important in making a decision.\n",
    "4. Can be used for both classification and regression tasks\n",
    "5. Can handle categorical and numerical features\n",
    "6. Robust to outliers\n",
    "\n",
    "## Disadvantages\n",
    "1. Overfitting: Decision Trees can be prone to overfitting, which means they may create very complex trees that fit the training data perfectly but don't generalize well to new data.\n",
    "2. Instability: Small changes in the data can lead to significant changes in the tree's structure, making them unstable.\n",
    "3. Not Suitable for Complex Relationships: They may not capture complex relationships in the data as effectively as some other models.\n",
    "4. Can be computationally expensive to train for large datasets\n",
    "5. Can be biased towards features that appear earlier in the tree\n",
    "\n",
    "## Application/Uses\n",
    "\n",
    "1. Classification: For tasks like spam email detection, sentiment analysis, and medical diagnosis.\n",
    "2. Regression: To predict numerical values, like predicting house prices based on features.\n",
    "3. Recommendation Systems: In e-commerce and content recommendation, helping users find products or content based on their preferences.\n",
    "4. Risk Assessment: In finance and insurance, assessing risk factors for loans or insurance policies.\n",
    "\n",
    "In summary, a Decision Tree is like a visual guide that helps you make decisions by following a series of questions and criteria. It's easy to grasp, has advantages like simplicity and transparency, but it can also be sensitive to overfitting and may not handle complex relationships as well as some other models. Decision Trees find applications in various fields where decision-making based on data is essential."
   ]
  },
  {
   "cell_type": "code",
   "execution_count": 16,
   "metadata": {
    "id": "JxCGo8_dtSFP"
   },
   "outputs": [],
   "source": [
    "import pandas as pd\n",
    "from pandas_datareader import data\n",
    "import numpy as np\n",
    "from sklearn.tree import DecisionTreeRegressor\n",
    "from sklearn.model_selection import train_test_split\n",
    "from sklearn import metrics\n",
    "from sklearn.metrics import r2_score\n",
    "from sklearn.datasets import load_boston\n",
    "from sklearn.model_selection import GridSearchCV"
   ]
  },
  {
   "cell_type": "code",
   "execution_count": 4,
   "metadata": {
    "id": "XcRphhGiteaB"
   },
   "outputs": [],
   "source": [
    "boston = load_boston()\n",
    "df = pd.DataFrame(boston.data)"
   ]
  },
  {
   "cell_type": "code",
   "execution_count": 6,
   "metadata": {
    "id": "WmJKGzxrtk5J"
   },
   "outputs": [],
   "source": [
    "df.columns = boston.feature_names\n",
    "df['MEDV'] = boston.target"
   ]
  },
  {
   "cell_type": "code",
   "execution_count": 7,
   "metadata": {
    "colab": {
     "base_uri": "https://localhost:8080/",
     "height": 198
    },
    "id": "jxRBIiC7twyw",
    "outputId": "af921672-cb7e-4efa-c0f5-6f19ae329a9e"
   },
   "outputs": [
    {
     "data": {
      "text/html": [
       "<div>\n",
       "<style scoped>\n",
       "    .dataframe tbody tr th:only-of-type {\n",
       "        vertical-align: middle;\n",
       "    }\n",
       "\n",
       "    .dataframe tbody tr th {\n",
       "        vertical-align: top;\n",
       "    }\n",
       "\n",
       "    .dataframe thead th {\n",
       "        text-align: right;\n",
       "    }\n",
       "</style>\n",
       "<table border=\"1\" class=\"dataframe\">\n",
       "  <thead>\n",
       "    <tr style=\"text-align: right;\">\n",
       "      <th></th>\n",
       "      <th>CRIM</th>\n",
       "      <th>ZN</th>\n",
       "      <th>INDUS</th>\n",
       "      <th>CHAS</th>\n",
       "      <th>NOX</th>\n",
       "      <th>RM</th>\n",
       "      <th>AGE</th>\n",
       "      <th>DIS</th>\n",
       "      <th>RAD</th>\n",
       "      <th>TAX</th>\n",
       "      <th>PTRATIO</th>\n",
       "      <th>B</th>\n",
       "      <th>LSTAT</th>\n",
       "      <th>MEDV</th>\n",
       "    </tr>\n",
       "  </thead>\n",
       "  <tbody>\n",
       "    <tr>\n",
       "      <th>0</th>\n",
       "      <td>0.00632</td>\n",
       "      <td>18.0</td>\n",
       "      <td>2.31</td>\n",
       "      <td>0.0</td>\n",
       "      <td>0.538</td>\n",
       "      <td>6.575</td>\n",
       "      <td>65.2</td>\n",
       "      <td>4.0900</td>\n",
       "      <td>1.0</td>\n",
       "      <td>296.0</td>\n",
       "      <td>15.3</td>\n",
       "      <td>396.90</td>\n",
       "      <td>4.98</td>\n",
       "      <td>24.0</td>\n",
       "    </tr>\n",
       "    <tr>\n",
       "      <th>1</th>\n",
       "      <td>0.02731</td>\n",
       "      <td>0.0</td>\n",
       "      <td>7.07</td>\n",
       "      <td>0.0</td>\n",
       "      <td>0.469</td>\n",
       "      <td>6.421</td>\n",
       "      <td>78.9</td>\n",
       "      <td>4.9671</td>\n",
       "      <td>2.0</td>\n",
       "      <td>242.0</td>\n",
       "      <td>17.8</td>\n",
       "      <td>396.90</td>\n",
       "      <td>9.14</td>\n",
       "      <td>21.6</td>\n",
       "    </tr>\n",
       "    <tr>\n",
       "      <th>2</th>\n",
       "      <td>0.02729</td>\n",
       "      <td>0.0</td>\n",
       "      <td>7.07</td>\n",
       "      <td>0.0</td>\n",
       "      <td>0.469</td>\n",
       "      <td>7.185</td>\n",
       "      <td>61.1</td>\n",
       "      <td>4.9671</td>\n",
       "      <td>2.0</td>\n",
       "      <td>242.0</td>\n",
       "      <td>17.8</td>\n",
       "      <td>392.83</td>\n",
       "      <td>4.03</td>\n",
       "      <td>34.7</td>\n",
       "    </tr>\n",
       "    <tr>\n",
       "      <th>3</th>\n",
       "      <td>0.03237</td>\n",
       "      <td>0.0</td>\n",
       "      <td>2.18</td>\n",
       "      <td>0.0</td>\n",
       "      <td>0.458</td>\n",
       "      <td>6.998</td>\n",
       "      <td>45.8</td>\n",
       "      <td>6.0622</td>\n",
       "      <td>3.0</td>\n",
       "      <td>222.0</td>\n",
       "      <td>18.7</td>\n",
       "      <td>394.63</td>\n",
       "      <td>2.94</td>\n",
       "      <td>33.4</td>\n",
       "    </tr>\n",
       "    <tr>\n",
       "      <th>4</th>\n",
       "      <td>0.06905</td>\n",
       "      <td>0.0</td>\n",
       "      <td>2.18</td>\n",
       "      <td>0.0</td>\n",
       "      <td>0.458</td>\n",
       "      <td>7.147</td>\n",
       "      <td>54.2</td>\n",
       "      <td>6.0622</td>\n",
       "      <td>3.0</td>\n",
       "      <td>222.0</td>\n",
       "      <td>18.7</td>\n",
       "      <td>396.90</td>\n",
       "      <td>5.33</td>\n",
       "      <td>36.2</td>\n",
       "    </tr>\n",
       "  </tbody>\n",
       "</table>\n",
       "</div>"
      ],
      "text/plain": [
       "      CRIM    ZN  INDUS  CHAS    NOX  ...    TAX  PTRATIO       B  LSTAT  MEDV\n",
       "0  0.00632  18.0   2.31   0.0  0.538  ...  296.0     15.3  396.90   4.98  24.0\n",
       "1  0.02731   0.0   7.07   0.0  0.469  ...  242.0     17.8  396.90   9.14  21.6\n",
       "2  0.02729   0.0   7.07   0.0  0.469  ...  242.0     17.8  392.83   4.03  34.7\n",
       "3  0.03237   0.0   2.18   0.0  0.458  ...  222.0     18.7  394.63   2.94  33.4\n",
       "4  0.06905   0.0   2.18   0.0  0.458  ...  222.0     18.7  396.90   5.33  36.2\n",
       "\n",
       "[5 rows x 14 columns]"
      ]
     },
     "execution_count": 7,
     "metadata": {
      "tags": []
     },
     "output_type": "execute_result"
    }
   ],
   "source": [
    "df.head()"
   ]
  },
  {
   "cell_type": "code",
   "execution_count": 8,
   "metadata": {
    "id": "eVG5s_Jet1bA"
   },
   "outputs": [],
   "source": [
    "X = df.iloc[:,0:13]\n",
    "y = df.iloc[:,13]"
   ]
  },
  {
   "cell_type": "code",
   "execution_count": 9,
   "metadata": {
    "id": "cOUN-0UYuGUJ"
   },
   "outputs": [],
   "source": [
    "X_train, X_test, y_train, y_test = train_test_split(X, y, test_size=0.2,random_state=42)"
   ]
  },
  {
   "cell_type": "code",
   "execution_count": 11,
   "metadata": {
    "id": "sD_wecziuNXM"
   },
   "outputs": [],
   "source": [
    "rt = DecisionTreeRegressor(criterion = 'mse', max_depth=5)"
   ]
  },
  {
   "cell_type": "code",
   "execution_count": 12,
   "metadata": {
    "colab": {
     "base_uri": "https://localhost:8080/"
    },
    "id": "JDzegfs-uRzM",
    "outputId": "e8c6e87c-e837-4d0f-8299-a9c087d36ec5"
   },
   "outputs": [
    {
     "data": {
      "text/plain": [
       "DecisionTreeRegressor(ccp_alpha=0.0, criterion='mse', max_depth=5,\n",
       "                      max_features=None, max_leaf_nodes=None,\n",
       "                      min_impurity_decrease=0.0, min_impurity_split=None,\n",
       "                      min_samples_leaf=1, min_samples_split=2,\n",
       "                      min_weight_fraction_leaf=0.0, presort='deprecated',\n",
       "                      random_state=None, splitter='best')"
      ]
     },
     "execution_count": 12,
     "metadata": {
      "tags": []
     },
     "output_type": "execute_result"
    }
   ],
   "source": [
    "rt.fit(X_train,y_train)"
   ]
  },
  {
   "cell_type": "code",
   "execution_count": 13,
   "metadata": {
    "id": "frsXe_HXua2g"
   },
   "outputs": [],
   "source": [
    "y_pred = rt.predict(X_test)"
   ]
  },
  {
   "cell_type": "code",
   "execution_count": 14,
   "metadata": {
    "colab": {
     "base_uri": "https://localhost:8080/"
    },
    "id": "lJr4QL0Yue3s",
    "outputId": "aaf50e73-c8a1-487a-a6ad-f88ac5c0a762"
   },
   "outputs": [
    {
     "data": {
      "text/plain": [
       "0.8833565347917997"
      ]
     },
     "execution_count": 14,
     "metadata": {
      "tags": []
     },
     "output_type": "execute_result"
    }
   ],
   "source": [
    "r2_score(y_test,y_pred)"
   ]
  },
  {
   "cell_type": "markdown",
   "metadata": {
    "id": "UM0faX2_veo3"
   },
   "source": [
    "# Hyperparameter Tuning"
   ]
  },
  {
   "cell_type": "code",
   "execution_count": 17,
   "metadata": {
    "id": "ekcQSlayvie2"
   },
   "outputs": [],
   "source": [
    "param_grid = {\n",
    "    'max_depth':[2,4,8,10,None],\n",
    "    'criterion':['mse','mae'],\n",
    "    'max_features':[0.25,0.5,1.0],\n",
    "    'min_samples_split':[0.25,0.5,1.0]\n",
    "}"
   ]
  },
  {
   "cell_type": "code",
   "execution_count": 19,
   "metadata": {
    "id": "LOIMY_oww_AR"
   },
   "outputs": [],
   "source": [
    "reg = GridSearchCV(DecisionTreeRegressor(),param_grid=param_grid)"
   ]
  },
  {
   "cell_type": "code",
   "execution_count": 20,
   "metadata": {
    "colab": {
     "base_uri": "https://localhost:8080/"
    },
    "id": "OTWsNguWxYYd",
    "outputId": "93266dfc-5697-4344-e67e-b3be6018340b"
   },
   "outputs": [
    {
     "data": {
      "text/plain": [
       "GridSearchCV(cv=None, error_score=nan,\n",
       "             estimator=DecisionTreeRegressor(ccp_alpha=0.0, criterion='mse',\n",
       "                                             max_depth=None, max_features=None,\n",
       "                                             max_leaf_nodes=None,\n",
       "                                             min_impurity_decrease=0.0,\n",
       "                                             min_impurity_split=None,\n",
       "                                             min_samples_leaf=1,\n",
       "                                             min_samples_split=2,\n",
       "                                             min_weight_fraction_leaf=0.0,\n",
       "                                             presort='deprecated',\n",
       "                                             random_state=None,\n",
       "                                             splitter='best'),\n",
       "             iid='deprecated', n_jobs=None,\n",
       "             param_grid={'criterion': ['mse', 'mae'],\n",
       "                         'max_depth': [2, 4, 8, 10, None],\n",
       "                         'max_features': [0.25, 0.5, 1.0],\n",
       "                         'min_samples_split': [0.25, 0.5, 1.0]},\n",
       "             pre_dispatch='2*n_jobs', refit=True, return_train_score=False,\n",
       "             scoring=None, verbose=0)"
      ]
     },
     "execution_count": 20,
     "metadata": {
      "tags": []
     },
     "output_type": "execute_result"
    }
   ],
   "source": [
    "reg.fit(X_train,y_train)"
   ]
  },
  {
   "cell_type": "code",
   "execution_count": 21,
   "metadata": {
    "colab": {
     "base_uri": "https://localhost:8080/"
    },
    "id": "2p2gXODVxjyR",
    "outputId": "62d8ad8b-b094-49c6-f6bf-ec19150e18fd"
   },
   "outputs": [
    {
     "data": {
      "text/plain": [
       "0.6452352174104019"
      ]
     },
     "execution_count": 21,
     "metadata": {
      "tags": []
     },
     "output_type": "execute_result"
    }
   ],
   "source": [
    "reg.best_score_"
   ]
  },
  {
   "cell_type": "code",
   "execution_count": 22,
   "metadata": {
    "colab": {
     "base_uri": "https://localhost:8080/"
    },
    "id": "Sfcu79tGxpWP",
    "outputId": "6e87caf9-a2cf-48f1-b426-7ddfd88d6e32"
   },
   "outputs": [
    {
     "data": {
      "text/plain": [
       "{'criterion': 'mse',\n",
       " 'max_depth': None,\n",
       " 'max_features': 0.5,\n",
       " 'min_samples_split': 0.25}"
      ]
     },
     "execution_count": 22,
     "metadata": {
      "tags": []
     },
     "output_type": "execute_result"
    }
   ],
   "source": [
    "reg.best_params_"
   ]
  },
  {
   "cell_type": "markdown",
   "metadata": {
    "id": "m-TDhtOsvG1B"
   },
   "source": [
    "# Feature Importance"
   ]
  },
  {
   "cell_type": "code",
   "execution_count": 15,
   "metadata": {
    "colab": {
     "base_uri": "https://localhost:8080/"
    },
    "id": "d39tWaFzuoKY",
    "outputId": "ce061900-baac-45f2-fba6-f56271fead9e"
   },
   "outputs": [
    {
     "name": "stdout",
     "output_type": "stream",
     "text": [
      "RM 0.6344993240692652\n",
      "LSTAT 0.19426427075925173\n",
      "CRIM 0.07395590730917082\n",
      "DIS 0.06744514557703153\n",
      "B 0.011905660139828182\n",
      "AGE 0.006176126174365511\n",
      "PTRATIO 0.004391097507128497\n",
      "NOX 0.0035610403857026535\n",
      "INDUS 0.002627468726682041\n",
      "RAD 0.0011739593515739223\n",
      "ZN 0.0\n",
      "TAX 0.0\n",
      "CHAS 0.0\n"
     ]
    }
   ],
   "source": [
    "for importance, name in sorted(zip(rt.feature_importances_, X_train.columns),reverse=True):\n",
    "  print (name, importance)"
   ]
  },
  {
   "cell_type": "code",
   "execution_count": null,
   "metadata": {
    "id": "MH1laMaWvK6N"
   },
   "outputs": [],
   "source": []
  }
 ],
 "metadata": {
  "colab": {
   "name": "regression-tree-example.ipynb",
   "provenance": []
  },
  "kernelspec": {
   "display_name": "Python 3",
   "language": "python",
   "name": "python3"
  },
  "language_info": {
   "codemirror_mode": {
    "name": "ipython",
    "version": 3
   },
   "file_extension": ".py",
   "mimetype": "text/x-python",
   "name": "python",
   "nbconvert_exporter": "python",
   "pygments_lexer": "ipython3",
   "version": "3.8.8"
  }
 },
 "nbformat": 4,
 "nbformat_minor": 1
}
