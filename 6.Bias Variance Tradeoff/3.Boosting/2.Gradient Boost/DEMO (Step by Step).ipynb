{
 "cells": [
  {
   "cell_type": "markdown",
   "metadata": {},
   "source": [
    "## Gradient boosting\n",
    "is an ensemble machine learning algorithm that can be used for both classification and regression tasks. It works by sequentially training a number of weak learners, such as decision trees, and then combining their predictions to produce a final prediction.\n",
    "\n",
    "Gradient boosting is similar to AdaBoost, but it uses a different method for updating the weights of the training examples. Gradient boosting uses the gradient of the loss function to update the weights of the training examples. This helps the subsequent weak learners to focus on the more difficult examples and to learn the more complex relationships between the features and the target variable.Gradient Boosting is like assembling a team of experts, each correcting the mistakes of the previous one, to solve a complex problem. It's a powerful machine learning technique that helps build accurate predictive models. \n",
    "\n",
    "### Objective:\n",
    "Imagine you're solving a puzzle, and each expert in your team corrects a part of the puzzle until it's complete. Gradient Boosting is like having a team of experts who sequentially improve the model's predictions step by step.\n",
    "\n",
    "### Explanation:\n",
    "\n",
    "1. Weak Models: Gradient Boosting starts with a simple and weak model, often a decision tree with just a few branches. This model's predictions are far from perfect and may contain errors, just like the first draft of a puzzle.\n",
    "\n",
    "2. Sequential Improvement: Instead of trying to create a perfect model all at once, Gradient Boosting focuses on improving one step at a time. It trains a new weak model to correct the errors made by the previous one. It's like having an expert who fixes part of the puzzle that the previous expert couldn't solve.\n",
    "\n",
    "3. Weighted Learning: Gradient Boosting assigns a weight to each data point based on how much the current model's predictions differ from the actual values. Data points that were previously misclassified or poorly predicted receive higher weights. The new model pays more attention to these challenging points, similar to giving more focus to difficult parts of the puzzle.\n",
    "\n",
    "4. Combining Predictions: After several rounds of training, Gradient Boosting combines the predictions from all the weak models. The final prediction is like the fully assembled puzzle, where each expert contributed to making it more accurate.\n",
    "\n",
    "### Advantages:\n",
    "\n",
    "1. High Accuracy: Gradient Boosting often yields highly accurate predictions because it focuses on correcting errors.\n",
    "2. Versatility: It can be used for various machine learning tasks, including classification and regression.\n",
    "3. Feature Importance: Gradient Boosting can tell you which features are most important for making predictions.\n",
    "4. Gradient boosting can achieve high accuracy, even with weak learners.\n",
    "5. Gradient boosting is robust to outliers.\n",
    "6. Gradient boosting can be used for both classification and regression tasks.\n",
    "7. Gradient boosting is flexible and can be customized to a variety of problems.\n",
    "\n",
    "### Disadvantages:\n",
    "\n",
    "1. Complexity: The algorithm can be computationally intensive and may require careful tuning.\n",
    "2. Potential Overfitting: If not properly regulated, Gradient Boosting can overfit the training data.\n",
    "3. Sensitive to Noisy Data: It can be sensitive to noisy data or outliers.\n",
    "4. Gradient boosting can be sensitive to the choice of hyperparameters.\n",
    "5. Gradient boosting can be computationally expensive to train for large datasets.\n",
    "\n",
    "### Common Applications:\n",
    "\n",
    "1. Ranking: In search engines, it's used for ranking search results based on relevance.\n",
    "2. Predictive Modeling: Gradient Boosting is applied in various predictive modeling tasks such as predicting customer churn or housing prices.\n",
    "3. Anomaly Detection: In cybersecurity, it's used to detect unusual patterns or cyber threats.\n",
    "4. Recommendation Systems: In e-commerce and content recommendation, it's used to suggest products or content to users based on their preferences.\n",
    "5. Classification: Gradient boosting can be used for a variety of classification tasks, such as spam detection, fraud detection, and image classification.\n",
    "6. Regression: Gradient boosting can also be used for regression tasks, such as predicting the price of a house or the number of visitors to a website.\n",
    "7. Ranking: Gradient boosting can also be used for ranking tasks, such as ranking search results or product recommendations.\n",
    "\n",
    "In summary, Gradient Boosting is a machine learning technique that builds accurate models by sequentially correcting errors made by previous models. It's versatile, highly accurate, but may require careful tuning. It finds applications in various domains where precise predictions are essential.\n",
    "\n"
   ]
  },
  {
   "cell_type": "code",
   "execution_count": null,
   "metadata": {
    "id": "uZCSNIawbQKr"
   },
   "outputs": [],
   "source": [
    "import numpy as np\n",
    "import matplotlib.pyplot as plt\n",
    "import pandas as pd"
   ]
  },
  {
   "cell_type": "code",
   "execution_count": 35,
   "metadata": {
    "id": "IfLejin3bVGL"
   },
   "outputs": [],
   "source": [
    "np.random.seed(42)\n",
    "X = np.random.rand(100, 1) - 0.5\n",
    "y = 3*X[:, 0]**2 + 0.05 * np.random.randn(100)"
   ]
  },
  {
   "cell_type": "code",
   "execution_count": 37,
   "metadata": {
    "id": "0jJoztbUbYW7"
   },
   "outputs": [],
   "source": [
    "df = pd.DataFrame()"
   ]
  },
  {
   "cell_type": "code",
   "execution_count": 38,
   "metadata": {
    "id": "lHEpruVAbbG3"
   },
   "outputs": [],
   "source": [
    "df['X'] = X.reshape(100)\n",
    "df['y'] = y"
   ]
  },
  {
   "cell_type": "code",
   "execution_count": 39,
   "metadata": {
    "colab": {
     "base_uri": "https://localhost:8080/",
     "height": 420
    },
    "id": "p4nfMcL1beac",
    "outputId": "14ca3bed-3869-43a5-9784-6c37e9ff5e2b"
   },
   "outputs": [
    {
     "data": {
      "text/html": [
       "<div>\n",
       "<style scoped>\n",
       "    .dataframe tbody tr th:only-of-type {\n",
       "        vertical-align: middle;\n",
       "    }\n",
       "\n",
       "    .dataframe tbody tr th {\n",
       "        vertical-align: top;\n",
       "    }\n",
       "\n",
       "    .dataframe thead th {\n",
       "        text-align: right;\n",
       "    }\n",
       "</style>\n",
       "<table border=\"1\" class=\"dataframe\">\n",
       "  <thead>\n",
       "    <tr style=\"text-align: right;\">\n",
       "      <th></th>\n",
       "      <th>X</th>\n",
       "      <th>y</th>\n",
       "    </tr>\n",
       "  </thead>\n",
       "  <tbody>\n",
       "    <tr>\n",
       "      <th>0</th>\n",
       "      <td>-0.125460</td>\n",
       "      <td>0.051573</td>\n",
       "    </tr>\n",
       "    <tr>\n",
       "      <th>1</th>\n",
       "      <td>0.450714</td>\n",
       "      <td>0.594480</td>\n",
       "    </tr>\n",
       "    <tr>\n",
       "      <th>2</th>\n",
       "      <td>0.231994</td>\n",
       "      <td>0.166052</td>\n",
       "    </tr>\n",
       "    <tr>\n",
       "      <th>3</th>\n",
       "      <td>0.098658</td>\n",
       "      <td>-0.070178</td>\n",
       "    </tr>\n",
       "    <tr>\n",
       "      <th>4</th>\n",
       "      <td>-0.343981</td>\n",
       "      <td>0.343986</td>\n",
       "    </tr>\n",
       "    <tr>\n",
       "      <th>...</th>\n",
       "      <td>...</td>\n",
       "      <td>...</td>\n",
       "    </tr>\n",
       "    <tr>\n",
       "      <th>95</th>\n",
       "      <td>-0.006204</td>\n",
       "      <td>-0.040675</td>\n",
       "    </tr>\n",
       "    <tr>\n",
       "      <th>96</th>\n",
       "      <td>0.022733</td>\n",
       "      <td>-0.002305</td>\n",
       "    </tr>\n",
       "    <tr>\n",
       "      <th>97</th>\n",
       "      <td>-0.072459</td>\n",
       "      <td>0.032809</td>\n",
       "    </tr>\n",
       "    <tr>\n",
       "      <th>98</th>\n",
       "      <td>-0.474581</td>\n",
       "      <td>0.689516</td>\n",
       "    </tr>\n",
       "    <tr>\n",
       "      <th>99</th>\n",
       "      <td>-0.392109</td>\n",
       "      <td>0.502607</td>\n",
       "    </tr>\n",
       "  </tbody>\n",
       "</table>\n",
       "<p>100 rows × 2 columns</p>\n",
       "</div>"
      ],
      "text/plain": [
       "           X         y\n",
       "0  -0.125460  0.051573\n",
       "1   0.450714  0.594480\n",
       "2   0.231994  0.166052\n",
       "3   0.098658 -0.070178\n",
       "4  -0.343981  0.343986\n",
       "..       ...       ...\n",
       "95 -0.006204 -0.040675\n",
       "96  0.022733 -0.002305\n",
       "97 -0.072459  0.032809\n",
       "98 -0.474581  0.689516\n",
       "99 -0.392109  0.502607\n",
       "\n",
       "[100 rows x 2 columns]"
      ]
     },
     "execution_count": 39,
     "metadata": {},
     "output_type": "execute_result"
    }
   ],
   "source": [
    "df"
   ]
  },
  {
   "cell_type": "code",
   "execution_count": 40,
   "metadata": {
    "colab": {
     "base_uri": "https://localhost:8080/",
     "height": 298
    },
    "id": "jpHtK8R1BNtN",
    "outputId": "23ba6686-ba3b-472f-b83a-18e10e2e7901"
   },
   "outputs": [
    {
     "data": {
      "text/plain": [
       "Text(0.5, 1.0, 'X vs Y')"
      ]
     },
     "execution_count": 40,
     "metadata": {},
     "output_type": "execute_result"
    },
    {
     "data": {
      "image/png": "[encoded data removed]",
      "text/plain": [
       "<Figure size 432x288 with 1 Axes>"
      ]
     },
     "metadata": {
      "needs_background": "light"
     },
     "output_type": "display_data"
    }
   ],
   "source": [
    "plt.scatter(df['X'],df['y']) # Relation between X and y\n",
    "plt.title('X vs Y')"
   ]
  },
  {
   "cell_type": "markdown",
   "metadata": {},
   "source": [
    "# Step 1"
   ]
  },
  {
   "cell_type": "code",
   "execution_count": 41,
   "metadata": {
    "id": "GbiTrFJZbiWY"
   },
   "outputs": [],
   "source": [
    "df['pred1'] = df['y'].mean() # First model on gradient boositng is the mean value of the output"
   ]
  },
  {
   "cell_type": "code",
   "execution_count": 42,
   "metadata": {
    "colab": {
     "base_uri": "https://localhost:8080/",
     "height": 420
    },
    "id": "8XuACSn-bvev",
    "outputId": "d846369b-013a-4e7f-ed2d-b6cde34a4b8d"
   },
   "outputs": [
    {
     "data": {
      "text/html": [
       "<div>\n",
       "<style scoped>\n",
       "    .dataframe tbody tr th:only-of-type {\n",
       "        vertical-align: middle;\n",
       "    }\n",
       "\n",
       "    .dataframe tbody tr th {\n",
       "        vertical-align: top;\n",
       "    }\n",
       "\n",
       "    .dataframe thead th {\n",
       "        text-align: right;\n",
       "    }\n",
       "</style>\n",
       "<table border=\"1\" class=\"dataframe\">\n",
       "  <thead>\n",
       "    <tr style=\"text-align: right;\">\n",
       "      <th></th>\n",
       "      <th>X</th>\n",
       "      <th>y</th>\n",
       "      <th>pred1</th>\n",
       "    </tr>\n",
       "  </thead>\n",
       "  <tbody>\n",
       "    <tr>\n",
       "      <th>0</th>\n",
       "      <td>-0.125460</td>\n",
       "      <td>0.051573</td>\n",
       "      <td>0.265458</td>\n",
       "    </tr>\n",
       "    <tr>\n",
       "      <th>1</th>\n",
       "      <td>0.450714</td>\n",
       "      <td>0.594480</td>\n",
       "      <td>0.265458</td>\n",
       "    </tr>\n",
       "    <tr>\n",
       "      <th>2</th>\n",
       "      <td>0.231994</td>\n",
       "      <td>0.166052</td>\n",
       "      <td>0.265458</td>\n",
       "    </tr>\n",
       "    <tr>\n",
       "      <th>3</th>\n",
       "      <td>0.098658</td>\n",
       "      <td>-0.070178</td>\n",
       "      <td>0.265458</td>\n",
       "    </tr>\n",
       "    <tr>\n",
       "      <th>4</th>\n",
       "      <td>-0.343981</td>\n",
       "      <td>0.343986</td>\n",
       "      <td>0.265458</td>\n",
       "    </tr>\n",
       "    <tr>\n",
       "      <th>...</th>\n",
       "      <td>...</td>\n",
       "      <td>...</td>\n",
       "      <td>...</td>\n",
       "    </tr>\n",
       "    <tr>\n",
       "      <th>95</th>\n",
       "      <td>-0.006204</td>\n",
       "      <td>-0.040675</td>\n",
       "      <td>0.265458</td>\n",
       "    </tr>\n",
       "    <tr>\n",
       "      <th>96</th>\n",
       "      <td>0.022733</td>\n",
       "      <td>-0.002305</td>\n",
       "      <td>0.265458</td>\n",
       "    </tr>\n",
       "    <tr>\n",
       "      <th>97</th>\n",
       "      <td>-0.072459</td>\n",
       "      <td>0.032809</td>\n",
       "      <td>0.265458</td>\n",
       "    </tr>\n",
       "    <tr>\n",
       "      <th>98</th>\n",
       "      <td>-0.474581</td>\n",
       "      <td>0.689516</td>\n",
       "      <td>0.265458</td>\n",
       "    </tr>\n",
       "    <tr>\n",
       "      <th>99</th>\n",
       "      <td>-0.392109</td>\n",
       "      <td>0.502607</td>\n",
       "      <td>0.265458</td>\n",
       "    </tr>\n",
       "  </tbody>\n",
       "</table>\n",
       "<p>100 rows × 3 columns</p>\n",
       "</div>"
      ],
      "text/plain": [
       "           X         y     pred1\n",
       "0  -0.125460  0.051573  0.265458\n",
       "1   0.450714  0.594480  0.265458\n",
       "2   0.231994  0.166052  0.265458\n",
       "3   0.098658 -0.070178  0.265458\n",
       "4  -0.343981  0.343986  0.265458\n",
       "..       ...       ...       ...\n",
       "95 -0.006204 -0.040675  0.265458\n",
       "96  0.022733 -0.002305  0.265458\n",
       "97 -0.072459  0.032809  0.265458\n",
       "98 -0.474581  0.689516  0.265458\n",
       "99 -0.392109  0.502607  0.265458\n",
       "\n",
       "[100 rows x 3 columns]"
      ]
     },
     "execution_count": 42,
     "metadata": {},
     "output_type": "execute_result"
    }
   ],
   "source": [
    "df # pred1 is the mean of y"
   ]
  },
  {
   "cell_type": "code",
   "execution_count": 43,
   "metadata": {
    "id": "dUIy2RxobwVr"
   },
   "outputs": [],
   "source": [
    "df['res1'] = df['y'] - df['pred1'] # THis gives the residual of model 1  actual(y) - pred(pred1)"
   ]
  },
  {
   "cell_type": "code",
   "execution_count": 44,
   "metadata": {
    "colab": {
     "base_uri": "https://localhost:8080/",
     "height": 420
    },
    "id": "38KvYW9Sb5B-",
    "outputId": "a3040a9b-80a8-4587-a0d0-8515b8a9fc8f"
   },
   "outputs": [
    {
     "data": {
      "text/html": [
       "<div>\n",
       "<style scoped>\n",
       "    .dataframe tbody tr th:only-of-type {\n",
       "        vertical-align: middle;\n",
       "    }\n",
       "\n",
       "    .dataframe tbody tr th {\n",
       "        vertical-align: top;\n",
       "    }\n",
       "\n",
       "    .dataframe thead th {\n",
       "        text-align: right;\n",
       "    }\n",
       "</style>\n",
       "<table border=\"1\" class=\"dataframe\">\n",
       "  <thead>\n",
       "    <tr style=\"text-align: right;\">\n",
       "      <th></th>\n",
       "      <th>X</th>\n",
       "      <th>y</th>\n",
       "      <th>pred1</th>\n",
       "      <th>res1</th>\n",
       "    </tr>\n",
       "  </thead>\n",
       "  <tbody>\n",
       "    <tr>\n",
       "      <th>0</th>\n",
       "      <td>-0.125460</td>\n",
       "      <td>0.051573</td>\n",
       "      <td>0.265458</td>\n",
       "      <td>-0.213885</td>\n",
       "    </tr>\n",
       "    <tr>\n",
       "      <th>1</th>\n",
       "      <td>0.450714</td>\n",
       "      <td>0.594480</td>\n",
       "      <td>0.265458</td>\n",
       "      <td>0.329021</td>\n",
       "    </tr>\n",
       "    <tr>\n",
       "      <th>2</th>\n",
       "      <td>0.231994</td>\n",
       "      <td>0.166052</td>\n",
       "      <td>0.265458</td>\n",
       "      <td>-0.099407</td>\n",
       "    </tr>\n",
       "    <tr>\n",
       "      <th>3</th>\n",
       "      <td>0.098658</td>\n",
       "      <td>-0.070178</td>\n",
       "      <td>0.265458</td>\n",
       "      <td>-0.335636</td>\n",
       "    </tr>\n",
       "    <tr>\n",
       "      <th>4</th>\n",
       "      <td>-0.343981</td>\n",
       "      <td>0.343986</td>\n",
       "      <td>0.265458</td>\n",
       "      <td>0.078528</td>\n",
       "    </tr>\n",
       "    <tr>\n",
       "      <th>...</th>\n",
       "      <td>...</td>\n",
       "      <td>...</td>\n",
       "      <td>...</td>\n",
       "      <td>...</td>\n",
       "    </tr>\n",
       "    <tr>\n",
       "      <th>95</th>\n",
       "      <td>-0.006204</td>\n",
       "      <td>-0.040675</td>\n",
       "      <td>0.265458</td>\n",
       "      <td>-0.306133</td>\n",
       "    </tr>\n",
       "    <tr>\n",
       "      <th>96</th>\n",
       "      <td>0.022733</td>\n",
       "      <td>-0.002305</td>\n",
       "      <td>0.265458</td>\n",
       "      <td>-0.267763</td>\n",
       "    </tr>\n",
       "    <tr>\n",
       "      <th>97</th>\n",
       "      <td>-0.072459</td>\n",
       "      <td>0.032809</td>\n",
       "      <td>0.265458</td>\n",
       "      <td>-0.232650</td>\n",
       "    </tr>\n",
       "    <tr>\n",
       "      <th>98</th>\n",
       "      <td>-0.474581</td>\n",
       "      <td>0.689516</td>\n",
       "      <td>0.265458</td>\n",
       "      <td>0.424057</td>\n",
       "    </tr>\n",
       "    <tr>\n",
       "      <th>99</th>\n",
       "      <td>-0.392109</td>\n",
       "      <td>0.502607</td>\n",
       "      <td>0.265458</td>\n",
       "      <td>0.237148</td>\n",
       "    </tr>\n",
       "  </tbody>\n",
       "</table>\n",
       "<p>100 rows × 4 columns</p>\n",
       "</div>"
      ],
      "text/plain": [
       "           X         y     pred1      res1\n",
       "0  -0.125460  0.051573  0.265458 -0.213885\n",
       "1   0.450714  0.594480  0.265458  0.329021\n",
       "2   0.231994  0.166052  0.265458 -0.099407\n",
       "3   0.098658 -0.070178  0.265458 -0.335636\n",
       "4  -0.343981  0.343986  0.265458  0.078528\n",
       "..       ...       ...       ...       ...\n",
       "95 -0.006204 -0.040675  0.265458 -0.306133\n",
       "96  0.022733 -0.002305  0.265458 -0.267763\n",
       "97 -0.072459  0.032809  0.265458 -0.232650\n",
       "98 -0.474581  0.689516  0.265458  0.424057\n",
       "99 -0.392109  0.502607  0.265458  0.237148\n",
       "\n",
       "[100 rows x 4 columns]"
      ]
     },
     "execution_count": 44,
     "metadata": {},
     "output_type": "execute_result"
    }
   ],
   "source": [
    "df"
   ]
  },
  {
   "cell_type": "code",
   "execution_count": 45,
   "metadata": {
    "colab": {
     "base_uri": "https://localhost:8080/",
     "height": 286
    },
    "id": "38eiADY1BaJO",
    "outputId": "75610e5a-4f41-4aee-eca4-4ab2daa727b4"
   },
   "outputs": [
    {
     "data": {
      "text/plain": [
       "[<matplotlib.lines.Line2D at 0x7f40df5f2d90>]"
      ]
     },
     "execution_count": 45,
     "metadata": {},
     "output_type": "execute_result"
    },
    {
     "data": {
      "image/png": "[encoded data removed]",
      "text/plain": [
       "<Figure size 432x288 with 1 Axes>"
      ]
     },
     "metadata": {
      "needs_background": "light"
     },
     "output_type": "display_data"
    }
   ],
   "source": [
    "plt.scatter(df['X'],df['y'])\n",
    "plt.plot(df['X'],df['pred1'],color='red') # This is how my model 1 looks right now. Since we took mean which is why parrellel to x-axis"
   ]
  },
  {
   "cell_type": "markdown",
   "metadata": {},
   "source": [
    "# Step 2\n",
    "Creating second model with decision tree"
   ]
  },
  {
   "cell_type": "code",
   "execution_count": 46,
   "metadata": {
    "id": "w-ocxPrbb5_N"
   },
   "outputs": [],
   "source": [
    "from sklearn.tree import DecisionTreeRegressor"
   ]
  },
  {
   "cell_type": "code",
   "execution_count": 17,
   "metadata": {
    "id": "AHu918SIcS9v"
   },
   "outputs": [],
   "source": [
    "tree1 = DecisionTreeRegressor(max_leaf_nodes=8) # In gradient boosting decision stomps is not used instead the leaf_nodes lies between the range 8 - 32"
   ]
  },
  {
   "cell_type": "code",
   "execution_count": 47,
   "metadata": {
    "colab": {
     "base_uri": "https://localhost:8080/"
    },
    "id": "RsGgZjNAcXz3",
    "outputId": "74ae2153-25a7-44f1-b249-58cb45ea9a24"
   },
   "outputs": [
    {
     "data": {
      "text/plain": [
       "DecisionTreeRegressor(ccp_alpha=0.0, criterion='mse', max_depth=None,\n",
       "                      max_features=None, max_leaf_nodes=8,\n",
       "                      min_impurity_decrease=0.0, min_impurity_split=None,\n",
       "                      min_samples_leaf=1, min_samples_split=2,\n",
       "                      min_weight_fraction_leaf=0.0, presort='deprecated',\n",
       "                      random_state=None, splitter='best')"
      ]
     },
     "execution_count": 47,
     "metadata": {},
     "output_type": "execute_result"
    }
   ],
   "source": [
    "# THe input for this model is the actual data and the output will be the residual of model 1\n",
    "tree1.fit(df['X'].values.reshape(100,1),df['res1'].values)"
   ]
  },
  {
   "cell_type": "code",
   "execution_count": 48,
   "metadata": {
    "colab": {
     "base_uri": "https://localhost:8080/",
     "height": 248
    },
    "id": "qah9L_-aJ4_f",
    "outputId": "47802410-9870-4c74-e695-8f38cdef03ce"
   },
   "outputs": [
    {
     "data": {
      "image/png": "[encoded data removed]",
      "text/plain": [
       "<Figure size 432x288 with 1 Axes>"
      ]
     },
     "metadata": {
      "needs_background": "light"
     },
     "output_type": "display_data"
    }
   ],
   "source": [
    "from sklearn.tree import plot_tree\n",
    "plot_tree(tree1)\n",
    "plt.show()"
   ]
  },
  {
   "cell_type": "code",
   "execution_count": 49,
   "metadata": {
    "id": "IdFPanXnciQ3"
   },
   "outputs": [],
   "source": [
    "# generating X_test\n",
    "X_test = np.linspace(-0.5, 0.5, 500)"
   ]
  },
  {
   "cell_type": "code",
   "execution_count": 50,
   "metadata": {
    "id": "Tzu0mK9Xe8dn"
   },
   "outputs": [],
   "source": [
    "# Testing the model m1(ouptut of model1)+m2(output of model 2)\n",
    "# m2 is calculated by giving the test set to the tree which will tell where does the point lie hence that will be the predicted output\n",
    "y_pred = 0.265458 + tree1.predict(X_test.reshape(500, 1)) "
   ]
  },
  {
   "cell_type": "code",
   "execution_count": 51,
   "metadata": {
    "colab": {
     "base_uri": "https://localhost:8080/",
     "height": 286
    },
    "id": "88mvQQ_UfVBO",
    "outputId": "77c6554f-cbd0-46fe-d6e8-1c18c24c5178"
   },
   "outputs": [
    {
     "data": {
      "text/plain": [
       "<matplotlib.collections.PathCollection at 0x7f40df5ee810>"
      ]
     },
     "execution_count": 51,
     "metadata": {},
     "output_type": "execute_result"
    },
    {
     "data": {
      "image/png": "[encoded data removed]",
      "text/plain": [
       "<Figure size 1008x288 with 1 Axes>"
      ]
     },
     "metadata": {
      "needs_background": "light"
     },
     "output_type": "display_data"
    }
   ],
   "source": [
    "# THis is the overall prediction model 1 + model 2\n",
    "plt.figure(figsize=(14,4))\n",
    "plt.subplot(121)\n",
    "plt.plot(X_test, y_pred, linewidth=2,color='red')\n",
    "plt.scatter(df['X'],df['y'])"
   ]
  },
  {
   "cell_type": "code",
   "execution_count": 52,
   "metadata": {
    "id": "NXhf93RSfnfO"
   },
   "outputs": [],
   "source": [
    "# Prediction for model 2\n",
    "df['pred2'] = 0.265458 + tree1.predict(df['X'].values.reshape(100,1))"
   ]
  },
  {
   "cell_type": "code",
   "execution_count": 53,
   "metadata": {
    "colab": {
     "base_uri": "https://localhost:8080/",
     "height": 420
    },
    "id": "YKf7AMhwidKy",
    "outputId": "b3e58d2e-6c75-4416-abd3-ffa0c1abcc19"
   },
   "outputs": [
    {
     "data": {
      "text/html": [
       "<div>\n",
       "<style scoped>\n",
       "    .dataframe tbody tr th:only-of-type {\n",
       "        vertical-align: middle;\n",
       "    }\n",
       "\n",
       "    .dataframe tbody tr th {\n",
       "        vertical-align: top;\n",
       "    }\n",
       "\n",
       "    .dataframe thead th {\n",
       "        text-align: right;\n",
       "    }\n",
       "</style>\n",
       "<table border=\"1\" class=\"dataframe\">\n",
       "  <thead>\n",
       "    <tr style=\"text-align: right;\">\n",
       "      <th></th>\n",
       "      <th>X</th>\n",
       "      <th>y</th>\n",
       "      <th>pred1</th>\n",
       "      <th>res1</th>\n",
       "      <th>pred2</th>\n",
       "    </tr>\n",
       "  </thead>\n",
       "  <tbody>\n",
       "    <tr>\n",
       "      <th>0</th>\n",
       "      <td>-0.125460</td>\n",
       "      <td>0.051573</td>\n",
       "      <td>0.265458</td>\n",
       "      <td>-0.213885</td>\n",
       "      <td>0.018319</td>\n",
       "    </tr>\n",
       "    <tr>\n",
       "      <th>1</th>\n",
       "      <td>0.450714</td>\n",
       "      <td>0.594480</td>\n",
       "      <td>0.265458</td>\n",
       "      <td>0.329021</td>\n",
       "      <td>0.605884</td>\n",
       "    </tr>\n",
       "    <tr>\n",
       "      <th>2</th>\n",
       "      <td>0.231994</td>\n",
       "      <td>0.166052</td>\n",
       "      <td>0.265458</td>\n",
       "      <td>-0.099407</td>\n",
       "      <td>0.215784</td>\n",
       "    </tr>\n",
       "    <tr>\n",
       "      <th>3</th>\n",
       "      <td>0.098658</td>\n",
       "      <td>-0.070178</td>\n",
       "      <td>0.265458</td>\n",
       "      <td>-0.335636</td>\n",
       "      <td>0.018319</td>\n",
       "    </tr>\n",
       "    <tr>\n",
       "      <th>4</th>\n",
       "      <td>-0.343981</td>\n",
       "      <td>0.343986</td>\n",
       "      <td>0.265458</td>\n",
       "      <td>0.078528</td>\n",
       "      <td>0.305964</td>\n",
       "    </tr>\n",
       "    <tr>\n",
       "      <th>...</th>\n",
       "      <td>...</td>\n",
       "      <td>...</td>\n",
       "      <td>...</td>\n",
       "      <td>...</td>\n",
       "      <td>...</td>\n",
       "    </tr>\n",
       "    <tr>\n",
       "      <th>95</th>\n",
       "      <td>-0.006204</td>\n",
       "      <td>-0.040675</td>\n",
       "      <td>0.265458</td>\n",
       "      <td>-0.306133</td>\n",
       "      <td>0.018319</td>\n",
       "    </tr>\n",
       "    <tr>\n",
       "      <th>96</th>\n",
       "      <td>0.022733</td>\n",
       "      <td>-0.002305</td>\n",
       "      <td>0.265458</td>\n",
       "      <td>-0.267763</td>\n",
       "      <td>0.018319</td>\n",
       "    </tr>\n",
       "    <tr>\n",
       "      <th>97</th>\n",
       "      <td>-0.072459</td>\n",
       "      <td>0.032809</td>\n",
       "      <td>0.265458</td>\n",
       "      <td>-0.232650</td>\n",
       "      <td>0.018319</td>\n",
       "    </tr>\n",
       "    <tr>\n",
       "      <th>98</th>\n",
       "      <td>-0.474581</td>\n",
       "      <td>0.689516</td>\n",
       "      <td>0.265458</td>\n",
       "      <td>0.424057</td>\n",
       "      <td>0.660912</td>\n",
       "    </tr>\n",
       "    <tr>\n",
       "      <th>99</th>\n",
       "      <td>-0.392109</td>\n",
       "      <td>0.502607</td>\n",
       "      <td>0.265458</td>\n",
       "      <td>0.237148</td>\n",
       "      <td>0.487796</td>\n",
       "    </tr>\n",
       "  </tbody>\n",
       "</table>\n",
       "<p>100 rows × 5 columns</p>\n",
       "</div>"
      ],
      "text/plain": [
       "           X         y     pred1      res1     pred2\n",
       "0  -0.125460  0.051573  0.265458 -0.213885  0.018319\n",
       "1   0.450714  0.594480  0.265458  0.329021  0.605884\n",
       "2   0.231994  0.166052  0.265458 -0.099407  0.215784\n",
       "3   0.098658 -0.070178  0.265458 -0.335636  0.018319\n",
       "4  -0.343981  0.343986  0.265458  0.078528  0.305964\n",
       "..       ...       ...       ...       ...       ...\n",
       "95 -0.006204 -0.040675  0.265458 -0.306133  0.018319\n",
       "96  0.022733 -0.002305  0.265458 -0.267763  0.018319\n",
       "97 -0.072459  0.032809  0.265458 -0.232650  0.018319\n",
       "98 -0.474581  0.689516  0.265458  0.424057  0.660912\n",
       "99 -0.392109  0.502607  0.265458  0.237148  0.487796\n",
       "\n",
       "[100 rows x 5 columns]"
      ]
     },
     "execution_count": 53,
     "metadata": {},
     "output_type": "execute_result"
    }
   ],
   "source": [
    "df"
   ]
  },
  {
   "cell_type": "code",
   "execution_count": 54,
   "metadata": {
    "id": "HPRqolQ8ih7t"
   },
   "outputs": [],
   "source": [
    "# THis gives the residual of model 2  actual(y) - pred(pred2)\n",
    "df['res2'] = df['y'] - df['pred2']"
   ]
  },
  {
   "cell_type": "code",
   "execution_count": 55,
   "metadata": {
    "colab": {
     "base_uri": "https://localhost:8080/",
     "height": 420
    },
    "id": "oFaReIF6i5XV",
    "outputId": "28b9e320-cbb1-44c6-e516-2c1a1389b7ee"
   },
   "outputs": [
    {
     "data": {
      "text/html": [
       "<div>\n",
       "<style scoped>\n",
       "    .dataframe tbody tr th:only-of-type {\n",
       "        vertical-align: middle;\n",
       "    }\n",
       "\n",
       "    .dataframe tbody tr th {\n",
       "        vertical-align: top;\n",
       "    }\n",
       "\n",
       "    .dataframe thead th {\n",
       "        text-align: right;\n",
       "    }\n",
       "</style>\n",
       "<table border=\"1\" class=\"dataframe\">\n",
       "  <thead>\n",
       "    <tr style=\"text-align: right;\">\n",
       "      <th></th>\n",
       "      <th>X</th>\n",
       "      <th>y</th>\n",
       "      <th>pred1</th>\n",
       "      <th>res1</th>\n",
       "      <th>pred2</th>\n",
       "      <th>res2</th>\n",
       "    </tr>\n",
       "  </thead>\n",
       "  <tbody>\n",
       "    <tr>\n",
       "      <th>0</th>\n",
       "      <td>-0.125460</td>\n",
       "      <td>0.051573</td>\n",
       "      <td>0.265458</td>\n",
       "      <td>-0.213885</td>\n",
       "      <td>0.018319</td>\n",
       "      <td>0.033254</td>\n",
       "    </tr>\n",
       "    <tr>\n",
       "      <th>1</th>\n",
       "      <td>0.450714</td>\n",
       "      <td>0.594480</td>\n",
       "      <td>0.265458</td>\n",
       "      <td>0.329021</td>\n",
       "      <td>0.605884</td>\n",
       "      <td>-0.011404</td>\n",
       "    </tr>\n",
       "    <tr>\n",
       "      <th>2</th>\n",
       "      <td>0.231994</td>\n",
       "      <td>0.166052</td>\n",
       "      <td>0.265458</td>\n",
       "      <td>-0.099407</td>\n",
       "      <td>0.215784</td>\n",
       "      <td>-0.049732</td>\n",
       "    </tr>\n",
       "    <tr>\n",
       "      <th>3</th>\n",
       "      <td>0.098658</td>\n",
       "      <td>-0.070178</td>\n",
       "      <td>0.265458</td>\n",
       "      <td>-0.335636</td>\n",
       "      <td>0.018319</td>\n",
       "      <td>-0.088497</td>\n",
       "    </tr>\n",
       "    <tr>\n",
       "      <th>4</th>\n",
       "      <td>-0.343981</td>\n",
       "      <td>0.343986</td>\n",
       "      <td>0.265458</td>\n",
       "      <td>0.078528</td>\n",
       "      <td>0.305964</td>\n",
       "      <td>0.038022</td>\n",
       "    </tr>\n",
       "    <tr>\n",
       "      <th>...</th>\n",
       "      <td>...</td>\n",
       "      <td>...</td>\n",
       "      <td>...</td>\n",
       "      <td>...</td>\n",
       "      <td>...</td>\n",
       "      <td>...</td>\n",
       "    </tr>\n",
       "    <tr>\n",
       "      <th>95</th>\n",
       "      <td>-0.006204</td>\n",
       "      <td>-0.040675</td>\n",
       "      <td>0.265458</td>\n",
       "      <td>-0.306133</td>\n",
       "      <td>0.018319</td>\n",
       "      <td>-0.058994</td>\n",
       "    </tr>\n",
       "    <tr>\n",
       "      <th>96</th>\n",
       "      <td>0.022733</td>\n",
       "      <td>-0.002305</td>\n",
       "      <td>0.265458</td>\n",
       "      <td>-0.267763</td>\n",
       "      <td>0.018319</td>\n",
       "      <td>-0.020624</td>\n",
       "    </tr>\n",
       "    <tr>\n",
       "      <th>97</th>\n",
       "      <td>-0.072459</td>\n",
       "      <td>0.032809</td>\n",
       "      <td>0.265458</td>\n",
       "      <td>-0.232650</td>\n",
       "      <td>0.018319</td>\n",
       "      <td>0.014489</td>\n",
       "    </tr>\n",
       "    <tr>\n",
       "      <th>98</th>\n",
       "      <td>-0.474581</td>\n",
       "      <td>0.689516</td>\n",
       "      <td>0.265458</td>\n",
       "      <td>0.424057</td>\n",
       "      <td>0.660912</td>\n",
       "      <td>0.028604</td>\n",
       "    </tr>\n",
       "    <tr>\n",
       "      <th>99</th>\n",
       "      <td>-0.392109</td>\n",
       "      <td>0.502607</td>\n",
       "      <td>0.265458</td>\n",
       "      <td>0.237148</td>\n",
       "      <td>0.487796</td>\n",
       "      <td>0.014810</td>\n",
       "    </tr>\n",
       "  </tbody>\n",
       "</table>\n",
       "<p>100 rows × 6 columns</p>\n",
       "</div>"
      ],
      "text/plain": [
       "           X         y     pred1      res1     pred2      res2\n",
       "0  -0.125460  0.051573  0.265458 -0.213885  0.018319  0.033254\n",
       "1   0.450714  0.594480  0.265458  0.329021  0.605884 -0.011404\n",
       "2   0.231994  0.166052  0.265458 -0.099407  0.215784 -0.049732\n",
       "3   0.098658 -0.070178  0.265458 -0.335636  0.018319 -0.088497\n",
       "4  -0.343981  0.343986  0.265458  0.078528  0.305964  0.038022\n",
       "..       ...       ...       ...       ...       ...       ...\n",
       "95 -0.006204 -0.040675  0.265458 -0.306133  0.018319 -0.058994\n",
       "96  0.022733 -0.002305  0.265458 -0.267763  0.018319 -0.020624\n",
       "97 -0.072459  0.032809  0.265458 -0.232650  0.018319  0.014489\n",
       "98 -0.474581  0.689516  0.265458  0.424057  0.660912  0.028604\n",
       "99 -0.392109  0.502607  0.265458  0.237148  0.487796  0.014810\n",
       "\n",
       "[100 rows x 6 columns]"
      ]
     },
     "execution_count": 55,
     "metadata": {},
     "output_type": "execute_result"
    }
   ],
   "source": [
    "df"
   ]
  },
  {
   "cell_type": "markdown",
   "metadata": {},
   "source": [
    "# Step 3\n",
    "Taking decision tree as the thired model"
   ]
  },
  {
   "cell_type": "code",
   "execution_count": 56,
   "metadata": {
    "id": "6VfcebMZi6I1"
   },
   "outputs": [],
   "source": [
    "tree2 = DecisionTreeRegressor(max_leaf_nodes=8)"
   ]
  },
  {
   "cell_type": "code",
   "execution_count": 57,
   "metadata": {
    "colab": {
     "base_uri": "https://localhost:8080/"
    },
    "id": "4OLND2zyjD51",
    "outputId": "731793fc-ece4-4905-831b-e5fe992d73c8"
   },
   "outputs": [
    {
     "data": {
      "text/plain": [
       "DecisionTreeRegressor(ccp_alpha=0.0, criterion='mse', max_depth=None,\n",
       "                      max_features=None, max_leaf_nodes=8,\n",
       "                      min_impurity_decrease=0.0, min_impurity_split=None,\n",
       "                      min_samples_leaf=1, min_samples_split=2,\n",
       "                      min_weight_fraction_leaf=0.0, presort='deprecated',\n",
       "                      random_state=None, splitter='best')"
      ]
     },
     "execution_count": 57,
     "metadata": {},
     "output_type": "execute_result"
    }
   ],
   "source": [
    "tree2.fit(df['X'].values.reshape(100,1),df['res2'].values)"
   ]
  },
  {
   "cell_type": "code",
   "execution_count": 58,
   "metadata": {
    "id": "S_enS_gpjOlJ"
   },
   "outputs": [],
   "source": [
    "y_pred = 0.265458 + sum(regressor.predict(X_test.reshape(-1, 1)) for regressor in [tree1,tree2])"
   ]
  },
  {
   "cell_type": "code",
   "execution_count": 59,
   "metadata": {
    "colab": {
     "base_uri": "https://localhost:8080/",
     "height": 298
    },
    "id": "tNz6xOm0jYa1",
    "outputId": "28dd7644-6415-4d66-aa3e-44ef0f6ba8cb"
   },
   "outputs": [
    {
     "data": {
      "text/plain": [
       "Text(0.5, 1.0, 'X vs y')"
      ]
     },
     "execution_count": 59,
     "metadata": {},
     "output_type": "execute_result"
    },
    {
     "data": {
      "image/png": "[encoded data removed]",
      "text/plain": [
       "<Figure size 1008x288 with 1 Axes>"
      ]
     },
     "metadata": {
      "needs_background": "light"
     },
     "output_type": "display_data"
    }
   ],
   "source": [
    "plt.figure(figsize=(14,4))\n",
    "plt.subplot(121)\n",
    "plt.plot(X_test, y_pred, linewidth=2,color='red')\n",
    "plt.scatter(df['X'],df['y'])\n",
    "plt.title('X vs y')"
   ]
  },
  {
   "cell_type": "code",
   "execution_count": 60,
   "metadata": {
    "id": "e744L8_QjbMZ"
   },
   "outputs": [],
   "source": [
    "# THis is the funcion made, where you can justify the no. of models you wanna train\n",
    "def gradient_boost(X,y,number,lr,count=1,regs=[],foo=None):\n",
    "\n",
    "  if number == 0:\n",
    "    return \n",
    "  else:\n",
    "    # do gradient boosting\n",
    "\n",
    "    if count > 1:\n",
    "      y = y - regs[-1].predict(X)\n",
    "    else:\n",
    "      foo = y\n",
    "\n",
    "    tree_reg = DecisionTreeRegressor(max_depth=5, random_state=42)\n",
    "    tree_reg.fit(X, y)\n",
    "\n",
    "    regs.append(tree_reg)\n",
    "\n",
    "    x1 = np.linspace(-0.5, 0.5, 500)\n",
    "    y_pred = sum(lr * regressor.predict(x1.reshape(-1, 1)) for regressor in regs)\n",
    "\n",
    "    print(number)\n",
    "    plt.figure()\n",
    "    plt.plot(x1, y_pred, linewidth=2)\n",
    "    plt.plot(X[:, 0], foo,\"r.\")\n",
    "    plt.show()\n",
    "\n",
    "    gradient_boost(X,y,number-1,lr,count+1,regs,foo=foo)\n"
   ]
  },
  {
   "cell_type": "code",
   "execution_count": null,
   "metadata": {},
   "outputs": [],
   "source": []
  }
 ],
 "metadata": {
  "colab": {
   "name": "gradient-boost-step-by-step.ipynb",
   "provenance": []
  },
  "kernelspec": {
   "display_name": "Python 3",
   "language": "python",
   "name": "python3"
  },
  "language_info": {
   "codemirror_mode": {
    "name": "ipython",
    "version": 3
   },
   "file_extension": ".py",
   "mimetype": "text/x-python",
   "name": "python",
   "nbconvert_exporter": "python",
   "pygments_lexer": "ipython3",
   "version": "3.8.8"
  }
 },
 "nbformat": 4,
 "nbformat_minor": 1
}
