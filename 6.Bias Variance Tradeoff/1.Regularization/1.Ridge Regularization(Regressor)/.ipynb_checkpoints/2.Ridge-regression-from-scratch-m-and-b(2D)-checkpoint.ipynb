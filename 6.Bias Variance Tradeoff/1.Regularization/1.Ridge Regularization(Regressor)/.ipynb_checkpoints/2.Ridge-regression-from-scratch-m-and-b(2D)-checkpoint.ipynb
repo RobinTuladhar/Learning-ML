{
 "cells": [
  {
   "cell_type": "markdown",
   "id": "a2599c12",
   "metadata": {},
   "source": [
    "# Making ridge regressor from scratch"
   ]
  },
  {
   "cell_type": "code",
   "execution_count": 1,
   "id": "45a5c8b5",
   "metadata": {},
   "outputs": [],
   "source": [
    "from sklearn.datasets import make_regression\n",
    "import matplotlib.pyplot as plt\n",
    "import numpy as np"
   ]
  },
  {
   "cell_type": "code",
   "execution_count": 2,
   "id": "dfbb84d9",
   "metadata": {},
   "outputs": [],
   "source": [
    "X,y = make_regression(n_samples=100, n_features=1, n_informative=1, n_targets=1,noise=20,random_state=13)"
   ]
  },
  {
   "cell_type": "code",
   "execution_count": 3,
   "id": "aa1a2157",
   "metadata": {},
   "outputs": [
    {
     "data": {
      "text/plain": [
       "<matplotlib.collections.PathCollection at 0x1459ed14a90>"
      ]
     },
     "execution_count": 3,
     "metadata": {},
     "output_type": "execute_result"
    },
    {
     "data": {
      "image/png": "[encoded data removed]",
      "text/plain": [
       "<Figure size 432x288 with 1 Axes>"
      ]
     },
     "metadata": {
      "needs_background": "light"
     },
     "output_type": "display_data"
    }
   ],
   "source": [
    "plt.scatter(X,y)"
   ]
  },
  {
   "cell_type": "code",
   "execution_count": 4,
   "id": "a27bdad9",
   "metadata": {},
   "outputs": [],
   "source": [
    "from sklearn.linear_model import LinearRegression"
   ]
  },
  {
   "cell_type": "code",
   "execution_count": 5,
   "id": "ac8417b7",
   "metadata": {},
   "outputs": [
    {
     "name": "stdout",
     "output_type": "stream",
     "text": [
      "[27.82809103]\n",
      "-2.29474455867698\n"
     ]
    }
   ],
   "source": [
    "lr = LinearRegression()\n",
    "lr.fit(X,y)\n",
    "print(lr.coef_)\n",
    "print(lr.intercept_)\n"
   ]
  },
  {
   "cell_type": "code",
   "execution_count": 6,
   "id": "27331082",
   "metadata": {},
   "outputs": [],
   "source": [
    "from sklearn.linear_model import Ridge"
   ]
  },
  {
   "cell_type": "code",
   "execution_count": 7,
   "id": "a128d5b5",
   "metadata": {},
   "outputs": [
    {
     "name": "stdout",
     "output_type": "stream",
     "text": [
      "[24.9546267]\n",
      "-2.1269130035235735\n"
     ]
    }
   ],
   "source": [
    "rr = Ridge(alpha=10)\n",
    "rr.fit(X,y)\n",
    "print(rr.coef_)\n",
    "print(rr.intercept_)"
   ]
  },
  {
   "cell_type": "code",
   "execution_count": 8,
   "id": "2705c9b6",
   "metadata": {},
   "outputs": [
    {
     "name": "stdout",
     "output_type": "stream",
     "text": [
      "[12.93442104]\n",
      "-1.4248441496033308\n"
     ]
    }
   ],
   "source": [
    "rr1 = Ridge(alpha=100)\n",
    "rr1.fit(X,y)\n",
    "print(rr1.coef_)\n",
    "print(rr1.intercept_)"
   ]
  },
  {
   "cell_type": "code",
   "execution_count": 15,
   "id": "5116aa1a",
   "metadata": {},
   "outputs": [
    {
     "data": {
      "text/plain": [
       "<matplotlib.legend.Legend at 0x145a2191dc0>"
      ]
     },
     "execution_count": 15,
     "metadata": {},
     "output_type": "execute_result"
    },
    {
     "data": {
      "image/png": "[encoded data removed]",
      "text/plain": [
       "<Figure size 432x288 with 1 Axes>"
      ]
     },
     "metadata": {
      "needs_background": "light"
     },
     "output_type": "display_data"
    }
   ],
   "source": [
    "plt.plot(X,y,'b.')\n",
    "plt.plot(X,lr.predict(X),color='red',label='alpha=0')\n",
    "plt.plot(X,rr.predict(X),color='green',label='alpha=10')\n",
    "plt.plot(X,rr1.predict(X),color='orange',label='alpha=100')\n",
    "plt.title(\"Difference on best fit line as per the alpha\") # Red is the ridge regressor line with alpha 0, basically linear regression, green is the line with alpha 10 and yellow is the line with 100 alpha value which is\n",
    "                                                            # basically underfitting.\n",
    "plt.legend()"
   ]
  },
  {
   "cell_type": "markdown",
   "id": "c05f9793-12a2-48fb-9425-11a1c52414a3",
   "metadata": {},
   "source": [
    "# Making my own class"
   ]
  },
  {
   "cell_type": "code",
   "execution_count": 10,
   "id": "d3207d75",
   "metadata": {},
   "outputs": [],
   "source": [
    "def linear_regression(X,y,alpha=1):\n",
    "    x_mean = X.mean()\n",
    "    y_mean = y.mean()\n",
    "    \n",
    "    num = 0\n",
    "    den = 0\n",
    "    \n",
    "    for i in range(X.shape[0]):\n",
    "        num = num + (y[i] - y_mean) * (X[i] - x_mean)\n",
    "        den = den + (X[i] - x_mean) * (X[i] - x_mean)\n",
    "        \n",
    "    m = num/(den + alpha)\n",
    "    b = y_mean - m*x_mean\n",
    "        \n",
    "    return m,b"
   ]
  },
  {
   "cell_type": "code",
   "execution_count": 11,
   "id": "4a2e18b2",
   "metadata": {},
   "outputs": [],
   "source": [
    "class MeroRidge:\n",
    "    \n",
    "    def __init__(self,alpha=0.1):\n",
    "        self.alpha = alpha\n",
    "        self.m = None\n",
    "        self.b = None\n",
    "        \n",
    "    def fit(self,X_train,y_train):\n",
    "        \n",
    "        num = 0\n",
    "        den = 0\n",
    "        \n",
    "        for i in range(X_train.shape[0]):\n",
    "            num = num + (y_train[i] - y_train.mean())*(X_train[i] - X_train.mean())\n",
    "            den = den + (X_train[i] - X_train.mean())*(X_train[i] - X_train.mean())\n",
    "        \n",
    "        self.m = num/(den + self.alpha)\n",
    "        self.b = y_train.mean() - (self.m*X_train.mean())\n",
    "        print(self.m,self.b)\n",
    "    \n",
    "    def predict(X_test):\n",
    "        pass"
   ]
  },
  {
   "cell_type": "code",
   "execution_count": 12,
   "id": "3e4f4a1d",
   "metadata": {},
   "outputs": [],
   "source": [
    "reg = MeroRidge(alpha=100)"
   ]
  },
  {
   "cell_type": "code",
   "execution_count": 13,
   "id": "38641fd6",
   "metadata": {},
   "outputs": [
    {
     "name": "stdout",
     "output_type": "stream",
     "text": [
      "[12.93442104] [-1.42484415]\n"
     ]
    }
   ],
   "source": [
    "reg.fit(X,y)"
   ]
  },
  {
   "cell_type": "code",
   "execution_count": null,
   "id": "a9362007",
   "metadata": {},
   "outputs": [],
   "source": []
  }
 ],
 "metadata": {
  "kernelspec": {
   "display_name": "Python 3",
   "language": "python",
   "name": "python3"
  },
  "language_info": {
   "codemirror_mode": {
    "name": "ipython",
    "version": 3
   },
   "file_extension": ".py",
   "mimetype": "text/x-python",
   "name": "python",
   "nbconvert_exporter": "python",
   "pygments_lexer": "ipython3",
   "version": "3.8.8"
  }
 },
 "nbformat": 4,
 "nbformat_minor": 5
}
