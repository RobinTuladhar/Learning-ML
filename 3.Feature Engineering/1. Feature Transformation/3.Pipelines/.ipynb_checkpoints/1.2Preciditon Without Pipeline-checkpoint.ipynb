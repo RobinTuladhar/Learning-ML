{
 "cells": [
  {
   "cell_type": "markdown",
   "id": "c26cc94d-608a-44f5-9f95-92a89997bfd8",
   "metadata": {},
   "source": [
    "# This is code that needs to be excuted if a user uploads a new passenger detail from the front-end"
   ]
  },
  {
   "cell_type": "code",
   "execution_count": 1,
   "id": "3877e9f6-7ce7-453d-8be0-a1fd10353612",
   "metadata": {},
   "outputs": [],
   "source": [
    "# First loading the models"
   ]
  },
  {
   "cell_type": "code",
   "execution_count": 13,
   "id": "0d3744af-ed15-4675-8599-ebc3e4f5c8c8",
   "metadata": {},
   "outputs": [],
   "source": [
    "import pickle\n",
    "import numpy as np\n",
    "import warnings\n",
    "warnings.filterwarnings(\"ignore\")\n",
    "\n",
    "ohe_sex = pickle.load(open(\"models/ohe_sex.pkl\", \"rb\"))\n",
    "ohe_embarked = pickle.load(open(\"models/ohe_embarked.pkl\", \"rb\"))\n",
    "clf = pickle.load(open(\"models/clf.pkl\", \"rb\"))"
   ]
  },
  {
   "cell_type": "code",
   "execution_count": 14,
   "id": "06d04eec-cb87-46b0-b18c-f4cf7a0b0883",
   "metadata": {},
   "outputs": [],
   "source": [
    "# Assume this is the input\n",
    "test_input = np.array([2, \"male\", 31.0, 0, 0, 10.5, \"S\"], dtype=object).reshape(1,7)"
   ]
  },
  {
   "cell_type": "code",
   "execution_count": 15,
   "id": "d184e209-9383-4f10-88e8-8d08722eb81d",
   "metadata": {},
   "outputs": [
    {
     "data": {
      "text/plain": [
       "array([[2, 'male', 31.0, 0, 0, 10.5, 'S']], dtype=object)"
      ]
     },
     "execution_count": 15,
     "metadata": {},
     "output_type": "execute_result"
    }
   ],
   "source": [
    "test_input"
   ]
  },
  {
   "cell_type": "code",
   "execution_count": 20,
   "id": "00d8406f-9b35-4446-9b4d-1fe2e31befee",
   "metadata": {},
   "outputs": [],
   "source": [
    "test_input_sex = ohe_sex.transform(test_input[:,1].reshape(1,1))"
   ]
  },
  {
   "cell_type": "code",
   "execution_count": 22,
   "id": "992b3efd-30d8-4b31-a0d4-e45e5adb6ef9",
   "metadata": {},
   "outputs": [
    {
     "data": {
      "text/plain": [
       "array([[1.]])"
      ]
     },
     "execution_count": 22,
     "metadata": {},
     "output_type": "execute_result"
    }
   ],
   "source": [
    "test_input_sex"
   ]
  },
  {
   "cell_type": "code",
   "execution_count": null,
   "id": "68ad1569-d53c-4b4c-ad65-3b461e1498c5",
   "metadata": {},
   "outputs": [],
   "source": []
  },
  {
   "cell_type": "code",
   "execution_count": null,
   "id": "3a2f3013-76de-433e-85aa-de05b542f3c8",
   "metadata": {},
   "outputs": [],
   "source": []
  }
 ],
 "metadata": {
  "kernelspec": {
   "display_name": "Python 3",
   "language": "python",
   "name": "python3"
  },
  "language_info": {
   "codemirror_mode": {
    "name": "ipython",
    "version": 3
   },
   "file_extension": ".py",
   "mimetype": "text/x-python",
   "name": "python",
   "nbconvert_exporter": "python",
   "pygments_lexer": "ipython3",
   "version": "3.8.8"
  }
 },
 "nbformat": 4,
 "nbformat_minor": 5
}
