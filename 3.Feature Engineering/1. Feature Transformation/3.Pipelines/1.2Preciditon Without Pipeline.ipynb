{
 "cells": [
  {
   "cell_type": "markdown",
   "id": "c26cc94d-608a-44f5-9f95-92a89997bfd8",
   "metadata": {},
   "source": [
    "# This is code that needs to be excuted if a user uploads a new passenger detail from the front-end"
   ]
  },
  {
   "cell_type": "code",
   "execution_count": 1,
   "id": "3877e9f6-7ce7-453d-8be0-a1fd10353612",
   "metadata": {},
   "outputs": [],
   "source": [
    "# First loading the models"
   ]
  },
  {
   "cell_type": "code",
   "execution_count": 2,
   "id": "0d3744af-ed15-4675-8599-ebc3e4f5c8c8",
   "metadata": {},
   "outputs": [],
   "source": [
    "import pickle\n",
    "import numpy as np\n",
    "import warnings\n",
    "warnings.filterwarnings(\"ignore\")\n",
    "\n",
    "ohe_sex = pickle.load(open('models/ohe_sex.pkl','rb'))\n",
    "ohe_embarked = pickle.load(open('models/ohe_embarked.pkl','rb'))\n",
    "clf = pickle.load(open('models/clf.pkl','rb'))"
   ]
  },
  {
   "cell_type": "code",
   "execution_count": 3,
   "id": "06d04eec-cb87-46b0-b18c-f4cf7a0b0883",
   "metadata": {},
   "outputs": [],
   "source": [
    "# Assume this is the input\n",
    "test_input = np.array([2, 'male', 31.0, 0, 0, 10.5, 'S'],dtype=object).reshape(1,7)"
   ]
  },
  {
   "cell_type": "code",
   "execution_count": 4,
   "id": "d184e209-9383-4f10-88e8-8d08722eb81d",
   "metadata": {},
   "outputs": [
    {
     "data": {
      "text/plain": [
       "array([[2, 'male', 31.0, 0, 0, 10.5, 'S']], dtype=object)"
      ]
     },
     "execution_count": 4,
     "metadata": {},
     "output_type": "execute_result"
    }
   ],
   "source": [
    "test_input"
   ]
  },
  {
   "cell_type": "code",
   "execution_count": 5,
   "id": "00d8406f-9b35-4446-9b4d-1fe2e31befee",
   "metadata": {},
   "outputs": [],
   "source": [
    "test_input_sex = ohe_sex.transform(test_input[:,1].reshape(1,1)) # applying ohe to the test data"
   ]
  },
  {
   "cell_type": "code",
   "execution_count": 6,
   "id": "992b3efd-30d8-4b31-a0d4-e45e5adb6ef9",
   "metadata": {},
   "outputs": [
    {
     "data": {
      "text/plain": [
       "array([[0., 1.]])"
      ]
     },
     "execution_count": 6,
     "metadata": {},
     "output_type": "execute_result"
    }
   ],
   "source": [
    "test_input_sex"
   ]
  },
  {
   "cell_type": "code",
   "execution_count": 7,
   "id": "68ad1569-d53c-4b4c-ad65-3b461e1498c5",
   "metadata": {},
   "outputs": [],
   "source": [
    "test_input_embarked = ohe_embarked.transform(test_input[:,-1].reshape(1,1)) # applying ohe to the test data"
   ]
  },
  {
   "cell_type": "code",
   "execution_count": 8,
   "id": "3a2f3013-76de-433e-85aa-de05b542f3c8",
   "metadata": {},
   "outputs": [
    {
     "data": {
      "text/plain": [
       "array([[0., 0., 1.]])"
      ]
     },
     "execution_count": 8,
     "metadata": {},
     "output_type": "execute_result"
    }
   ],
   "source": [
    "test_input_embarked "
   ]
  },
  {
   "cell_type": "code",
   "execution_count": 9,
   "id": "d4ae956d-3850-46ac-af62-ca918ba6394b",
   "metadata": {},
   "outputs": [],
   "source": [
    "test_input_age = test_input[:,2].reshape(1,1)"
   ]
  },
  {
   "cell_type": "code",
   "execution_count": 11,
   "id": "d53f0c6e-f480-410f-a2f4-a432fb2b77fd",
   "metadata": {},
   "outputs": [],
   "source": [
    "# Combining the above columns \n",
    "test_input_transformed = np.concatenate((test_input[:,[0,3,4,5]],test_input_age,test_input_sex,test_input_embarked),axis=1)"
   ]
  },
  {
   "cell_type": "code",
   "execution_count": 12,
   "id": "a7672d25-3e4c-48f2-b441-c4e257de4a45",
   "metadata": {},
   "outputs": [
    {
     "data": {
      "text/plain": [
       "(1, 10)"
      ]
     },
     "execution_count": 12,
     "metadata": {},
     "output_type": "execute_result"
    }
   ],
   "source": [
    "test_input_transformed.shape"
   ]
  },
  {
   "cell_type": "code",
   "execution_count": 14,
   "id": "b809a7b3-6389-4ad7-9d0f-4aeab1fd7aca",
   "metadata": {},
   "outputs": [
    {
     "data": {
      "text/plain": [
       "array([1], dtype=int64)"
      ]
     },
     "execution_count": 14,
     "metadata": {},
     "output_type": "execute_result"
    }
   ],
   "source": [
    "# Now I got the  preprocessed user input data which can be fit to my classifier\n",
    "clf.predict(test_input_transformed)"
   ]
  },
  {
   "cell_type": "markdown",
   "id": "fa8ba181-272a-4e44-81b7-6fc77d308c5c",
   "metadata": {},
   "source": [
    "This is the production code that needs to be written for deploying the code. As you can see, the same block of code is repeated for each user input value, and it's important to ensure the correct order of input values. THis process is time-consuming and there is a high probability of errors in the code, especially \n",
    "with regards to the order of inputted values.\n",
    "\n",
    "### The series of code you write while training has to be written again while taking the code for produciton, which really is a bad thing because if somehing is changed on the training set the production set also has to be potimized\n",
    "\n",
    "This is why pipelines are utilized, as they offer a more efficient and error-free approach to handle the multiple stages involved in data preprocessing, model training, and prediction. With pipelines, it is possible to automate and streamline the entire process, reducing the likelihood of errors and ensuring a more efficient deployment of machine learning models."
   ]
  },
  {
   "cell_type": "code",
   "execution_count": null,
   "id": "051cbc85-5914-460b-befb-412da3b54a16",
   "metadata": {},
   "outputs": [],
   "source": []
  }
 ],
 "metadata": {
  "kernelspec": {
   "display_name": "Python 3",
   "language": "python",
   "name": "python3"
  },
  "language_info": {
   "codemirror_mode": {
    "name": "ipython",
    "version": 3
   },
   "file_extension": ".py",
   "mimetype": "text/x-python",
   "name": "python",
   "nbconvert_exporter": "python",
   "pygments_lexer": "ipython3",
   "version": "3.8.8"
  }
 },
 "nbformat": 4,
 "nbformat_minor": 5
}
